{
 "cells": [
  {
   "cell_type": "code",
   "id": "initial_id",
   "metadata": {
    "collapsed": true,
    "ExecuteTime": {
     "end_time": "2024-08-19T17:21:04.913344Z",
     "start_time": "2024-08-19T17:21:04.874482Z"
    }
   },
   "source": [
    "delta_factors={\n",
    "'length': 0.000001,\n",
    "'width': 0.00001,\n",
    "'depth': 0.00001,\n",
    "'latitude': 0.0001,\n",
    "'longitude': 0.0001,\n",
    "'strike': 0.001,\n",
    "'slip': 0.001,\n",
    "'dip': 0.01,\n",
    "'rake': 0.00001\n",
    "}\n",
    "\n",
    "starting_values={\n",
    "'latitude': -5.91496,\n",
    "'longitude': 131.552,\n",
    "'length': 196691.674935,\n",
    "'width': 120856.719594,\n",
    "'slip': 13.239855,\n",
    "'strike': 204.918706,\n",
    "'dip': 22.34109,\n",
    "'depth': 28000.011876,\n",
    "'rake': 90\n",
    "}"
   ],
   "outputs": [],
   "execution_count": 9
  },
  {
   "metadata": {
    "ExecuteTime": {
     "end_time": "2024-08-19T17:21:04.943527Z",
     "start_time": "2024-08-19T17:21:04.913344Z"
    }
   },
   "cell_type": "code",
   "source": [
    "for param, value in starting_values.items():\n",
    "    if param in delta_factors:\n",
    "        delta = value * delta_factors[param]\n",
    "        var1 = value+delta\n",
    "        var2 = value-delta\n",
    "        print(f'usgs_subfault.{param} = {var1}')\n",
    "        print(f'usgs_subfault.{param} = {var2}')\n",
    "        "
   ],
   "id": "1b23bb7fadbb573f",
   "outputs": [
    {
     "name": "stdout",
     "output_type": "stream",
     "text": [
      "usgs_subfault.latitude = -5.915551496\n",
      "usgs_subfault.latitude = -5.914368504\n",
      "usgs_subfault.longitude = 131.5651552\n",
      "usgs_subfault.longitude = 131.5388448\n",
      "usgs_subfault.length = 196691.87162667493\n",
      "usgs_subfault.length = 196691.47824332505\n",
      "usgs_subfault.width = 120857.92816119593\n",
      "usgs_subfault.width = 120855.51102680406\n",
      "usgs_subfault.slip = 13.253094855\n",
      "usgs_subfault.slip = 13.226615145\n",
      "usgs_subfault.strike = 205.123624706\n",
      "usgs_subfault.strike = 204.71378729399999\n",
      "usgs_subfault.dip = 22.564500900000002\n",
      "usgs_subfault.dip = 22.1176791\n",
      "usgs_subfault.depth = 28000.29187611876\n",
      "usgs_subfault.depth = 27999.73187588124\n",
      "usgs_subfault.rake = 90.0009\n",
      "usgs_subfault.rake = 89.9991\n"
     ]
    }
   ],
   "execution_count": 10
  },
  {
   "metadata": {
    "ExecuteTime": {
     "end_time": "2024-08-19T17:21:04.962766Z",
     "start_time": "2024-08-19T17:21:04.943527Z"
    }
   },
   "cell_type": "code",
   "source": [
    "length= 196691.674935 / 111111\n",
    "width= 120856.719594 / 111111\n",
    "print(length, width)\n"
   ],
   "id": "62d877582224827e",
   "outputs": [
    {
     "name": "stdout",
     "output_type": "stream",
     "text": [
      "1.7702268446418445 1.087711564057564\n"
     ]
    }
   ],
   "execution_count": 11
  }
 ],
 "metadata": {
  "kernelspec": {
   "display_name": "Python 3",
   "language": "python",
   "name": "python3"
  },
  "language_info": {
   "codemirror_mode": {
    "name": "ipython",
    "version": 2
   },
   "file_extension": ".py",
   "mimetype": "text/x-python",
   "name": "python",
   "nbconvert_exporter": "python",
   "pygments_lexer": "ipython2",
   "version": "2.7.6"
  }
 },
 "nbformat": 4,
 "nbformat_minor": 5
}
