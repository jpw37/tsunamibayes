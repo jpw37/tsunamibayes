{
 "cells": [
  {
   "cell_type": "code",
   "execution_count": 1,
   "id": "f41f657b",
   "metadata": {},
   "outputs": [],
   "source": [
    "import numpy as np\n",
    "import pandas as pd\n",
    "import os\n",
    "import glob\n",
    "from matplotlib import pyplot as plt\n",
    "import cartopy.crs as ccrs"
   ]
  },
  {
   "cell_type": "code",
   "execution_count": 3,
   "id": "965c2887",
   "metadata": {},
   "outputs": [],
   "source": [
    "rundir = '/Users/raelynnwonnacott/Desktop/fin16/'\n",
    "# topo_file = topo.Topography()\n",
    "# topo_file.read('./base.tt3', topo_type=3)"
   ]
  },
  {
   "cell_type": "code",
   "execution_count": 4,
   "id": "e5bbabec",
   "metadata": {},
   "outputs": [],
   "source": [
    "def custom_div_cmap(numcolors=15, name='custom_div_cmap'):\n",
    "    from matplotlib.colors import LinearSegmentedColormap \n",
    "    \n",
    "    cmap = LinearSegmentedColormap.from_list(name=name, \n",
    "                                             colors =colors,\n",
    "                                             N=numcolors)\n",
    "    return cmap\n",
    "colors = ['royalblue', 'royalblue', 'royalblue', 'CornflowerBlue','CornflowerBlue','CornflowerBlue','lightskyblue','lightskyblue','g', 'g', 'g']\n",
    "cmap1 = custom_div_cmap(11, colors)\n",
    "colors = ['royalblue', 'royalblue', 'royalblue', 'royalblue','CornflowerBlue','CornflowerBlue','CornflowerBlue','lightskyblue','lightskyblue','g', 'g', 'g','g','red']\n",
    "cmap2 = custom_div_cmap(11, colors)\n"
   ]
  },
  {
   "cell_type": "code",
   "execution_count": 5,
   "id": "0b10731a",
   "metadata": {},
   "outputs": [
    {
     "name": "stdout",
     "output_type": "stream",
     "text": [
      "/Users/raelynnwonnacott/Desktop/fin16/56213318_m1/\n",
      "/Users/raelynnwonnacott/Desktop/fin16/56213319_m1/\n",
      "/Users/raelynnwonnacott/Desktop/fin16/56213312_m1/\n",
      "/Users/raelynnwonnacott/Desktop/fin16/56220137_m8/\n",
      "/Users/raelynnwonnacott/Desktop/fin16/56213323_m1/\n",
      "/Users/raelynnwonnacott/Desktop/fin16/56213313_m1/\n",
      "/Users/raelynnwonnacott/Desktop/fin16/56213293_m1/\n",
      "/Users/raelynnwonnacott/Desktop/fin16/56213330_m1/\n",
      "/Users/raelynnwonnacott/Desktop/fin16/56213304_m1/\n",
      "/Users/raelynnwonnacott/Desktop/fin16/56213310_m1/\n"
     ]
    }
   ],
   "source": [
    "dirs = glob.glob('/Users/raelynnwonnacott/Desktop/fin16/5*/')\n",
    "samples = []\n",
    "model_params = []\n",
    "model_output = []\n",
    "bayes_data = []\n",
    "debug = []\n",
    "data = (['samples', 'model_params', 'model_output', 'bayes_data'], [samples, model_params, model_output, bayes_data])\n",
    "\n",
    "for dir_ in dirs:\n",
    "    print(dir_)\n",
    "    for kind,lst in zip(*data):\n",
    "        k = 1\n",
    "        df = pd.read_csv(dir_+kind+'.csv', index_col=0).iloc[k:].reset_index(drop=True)[:2000]\n",
    "        lst.append(df)\n",
    "        \n",
    "        "
   ]
  },
  {
   "cell_type": "code",
   "execution_count": 6,
   "id": "8d88ce47",
   "metadata": {},
   "outputs": [],
   "source": [
    "rundir = '/Users/raelynnwonnacott/Desktop/fin16/'\n",
    "\n",
    "chains_samples = {}\n",
    "for file in os.listdir(rundir):\n",
    "    if file[0] != '.' and file[-3:-1] == '_m':\n",
    "        try:\n",
    "            chains_samples[file] = pd.read_csv(os.path.join(rundir, file, \"samples.csv\"),\n",
    "                                      index_col=0).reset_index(drop=True)\n",
    "        except FileNotFoundError:\n",
    "            print(f\"SLURM ID {file[:-3]} has no samples data\")\n",
    "            chains_samples[file] = None\n",
    "\n",
    "            \n",
    "chains_params = {}\n",
    "for file in os.listdir(rundir):\n",
    "    if file[0] != '.' and file[-3:-1] == '_m':\n",
    "        try:\n",
    "            chains_params[file] = pd.read_csv(os.path.join(rundir, file, \"model_params.csv\"),\n",
    "                                      index_col=0).reset_index(drop=True)\n",
    "        except FileNotFoundError:\n",
    "            print(f\"SLURM ID {file[:-3]} has no params data\")\n",
    "            chains_params[file] = None\n",
    "            \n",
    "            \n",
    "chains_output = {}\n",
    "for file in os.listdir(rundir):\n",
    "    if file[0] != '.' and file[-3:-1] == '_m':\n",
    "        try:\n",
    "            chains_output[file] = pd.read_csv(os.path.join(rundir, file, \"model_output.csv\"),\n",
    "                                      index_col=0).reset_index(drop=True)\n",
    "        except FileNotFoundError:\n",
    "            print(f\"SLURM ID {file[:-3]} has no output data\")\n",
    "            chains_output[file] = None\n",
    "            \n",
    "            \n",
    "chains_bayes_data = {}\n",
    "for file in os.listdir(rundir):\n",
    "    if file[0] != '.' and file[-3:-1] == '_m':\n",
    "        try:\n",
    "            chains_bayes_data[file] = pd.read_csv(os.path.join(rundir, file, \"bayes_data.csv\"),\n",
    "                                      index_col=0).reset_index(drop=True)\n",
    "        except FileNotFoundError:\n",
    "            print(f\"SLURM ID {file[:-3]} has no bayes_data data\")\n",
    "            chains_bayes_data[file] = None\n",
    "            \n",
    "            \n",
    "chains_debug = {}\n",
    "for file in os.listdir(rundir):\n",
    "    if file[0] != '.' and file[-3:-1] == '_m':\n",
    "        try:\n",
    "            chains_debug[file] = pd.read_csv(os.path.join(rundir, file, \"debug.csv\"),\n",
    "                                      index_col=0).reset_index(drop=True)\n",
    "        except FileNotFoundError:\n",
    "            print(f\"SLURM ID {file[:-3]} has no debug data\")\n",
    "            chains_debug[file] = None"
   ]
  },
  {
   "cell_type": "code",
   "execution_count": 7,
   "id": "a917e8e8",
   "metadata": {},
   "outputs": [],
   "source": [
    "all_samples=pd.concat(samples,ignore_index=True)\n",
    "all_model_params=pd.concat(model_params,ignore_index=True)\n",
    "all_model_output=pd.concat(model_output,ignore_index=True)\n",
    "all_bayes_data = pd.concat(bayes_data,ignore_index=True)"
   ]
  },
  {
   "cell_type": "code",
   "execution_count": 8,
   "id": "e1b8f2a6",
   "metadata": {},
   "outputs": [],
   "source": [
    "final_debug_idx = [df.index[-1] for df in debug]\n",
    "p = np.exp(np.array([df['posterior_logpdf'].iloc[-1] for df in bayes_data]))\n",
    "p /= p.sum()\n",
    "resample_idx = np.random.choice(np.arange(len(p)), size=10, p=p)\n",
    "#this is the resampled index used\n",
    "resample_idx = [8, 2, 7, 9, 2, 9, 2, 2, 2, 8]"
   ]
  },
  {
   "cell_type": "code",
   "execution_count": 10,
   "id": "bdaaa8ae",
   "metadata": {},
   "outputs": [],
   "source": [
    "end_samples = np.array([sample.iloc[-1] for sample in samples])"
   ]
  },
  {
   "cell_type": "code",
   "execution_count": 11,
   "id": "7bcc18bc",
   "metadata": {},
   "outputs": [],
   "source": [
    "chains_id = ['56213318_m1','56213319_m1','56213312_m1','56220137_m8','56213323_m1','56213313_m1','56213293_m1',\n",
    "             '56213330_m1','56213304_m1','56213310_m1']\n",
    "chosen_chains = set(np.array(chains_id)[resample_idx])"
   ]
  },
  {
   "cell_type": "code",
   "execution_count": 12,
   "id": "9323bf2c",
   "metadata": {},
   "outputs": [],
   "source": [
    "resamples = [end_samples[i] for i in resample_idx]"
   ]
  },
  {
   "cell_type": "code",
   "execution_count": 13,
   "id": "6ccd81a6",
   "metadata": {},
   "outputs": [],
   "source": [
    "obs_loc = np.array([[129.775, -4.5175], # Pulu Ai\n",
    "           [128.178, -3.691], # Ambon\n",
    "           [129.8965, -4.5248], # Banda Neira\n",
    "           [127.113, -3.3815], # Buru\n",
    "           [128.557, -3.543], # Hulaliu\n",
    "           [128.657, -3.576], # Saparua\n",
    "           [128.562, -3.501], # Kulur\n",
    "           [128.807, -3.6455], # Ameth\n",
    "           [128.921, -3.338]]) # Amahai\n",
    "obs_names = ['Pulu Ai','Ambon','Banda Neira','Buru','Hulaliu','Saparua','Kulur','Ameth','Amahai']"
   ]
  },
  {
   "cell_type": "code",
   "execution_count": 14,
   "id": "31ec7203",
   "metadata": {},
   "outputs": [],
   "source": [
    "name_loc = obs_loc.copy()\n",
    "name_loc[0] = (name_loc[0,0]-.5,name_loc[0,1]-.15)\n",
    "name_loc[1] = (name_loc[1,0]-.5,name_loc[1,1]-.2)\n",
    "name_loc[2] = (name_loc[2,0]+.05,name_loc[2,1]+.05)\n",
    "name_loc[3] = (name_loc[3,0]+.05,name_loc[3,1]+.05)\n",
    "name_loc[4] = (128.25,-4.1)\n",
    "name_loc[5] = (name_loc[5,0]+.05,name_loc[5,1])\n",
    "name_loc[-1] = (name_loc[-1,0]+.07,name_loc[-1,1]+.07)\n",
    "name_loc[-2] = (name_loc[-2,0],name_loc[-2,1]-.15)\n",
    "name_loc[-3] = (name_loc[-3,0]-.4,name_loc[-3,1])\n",
    "name_loc[4] = (128.25,-4.1)"
   ]
  },
  {
   "cell_type": "code",
   "execution_count": 27,
   "id": "58b20442",
   "metadata": {},
   "outputs": [
    {
     "data": {
      "text/plain": [
       "[<matplotlib.lines.Line2D at 0x16861ddc0>]"
      ]
     },
     "execution_count": 27,
     "metadata": {},
     "output_type": "execute_result"
    },
    {
     "data": {
      "image/png": "[encoded data removed]",
      "text/plain": [
       "<Figure size 540x504 with 1 Axes>"
      ]
     },
     "metadata": {
      "needs_background": "light"
     },
     "output_type": "display_data"
    }
   ],
   "source": [
    "%matplotlib inline\n",
    "crs = ccrs.PlateCarree()\n",
    "fig = plt.figure(figsize=(7.5,7))\n",
    "ax = plt.axes(projection=crs)\n",
    "ax.set_extent((127,133,-8,-2))\n",
    "ax.coastlines(resolution='10m')\n",
    "plt.xticks(np.arange(127,134))\n",
    "plt.yticks(np.arange(-8,-1))\n",
    "chosen_chains = list(chosen_chains)\n",
    "i = 3\n",
    "plt.scatter(chains_samples[chosen_chains[i]]['longitude'], chains_samples[chosen_chains[i]]['latitude'],s=3,\n",
    "        label=f'chain points',c='mediumorchid')\n",
    "x = list(chains_samples[chosen_chains[i]]['longitude'])[-1]\n",
    "y = list(chains_samples[chosen_chains[i]]['latitude'])[-1]\n",
    "plt.plot(x,y,'ro',markersize = 4,label = 'ending point')\n",
    "\n",
    "plt.plot(131.7,-6.3,'ko',markersize = 4,label = 'starting point')\n",
    "# plt.plot(131.7,-5,'ko',markersize = 4,label = 'starting point')\n",
    "# plt.plot(130,-6.2,'ko',markersize = 5)\n",
    "# plt.plot(130.5,-4,'ko',markersize = 5)\n",
    "# plt.plot(130.4,-5,'ko',markersize = 4, label = 'starting point')\n",
    "# plt.plot(130.3,-7.2,'ko',markersize = 5)\n",
    "plt.legend(markerscale = 4)\n",
    "\n",
    "plt.scatter(obs_loc[:,0],obs_loc[:,1],s=5,c='r')\n",
    "for loc,name in zip(name_loc,obs_names):\n",
    "    plt.annotate(name,loc+.01)\n",
    "plt.plot(np.linspace(128.5,obs_loc[4,0],100),np.linspace(-4,obs_loc[4,1],100),color='k',linewidth=.3)\n"
   ]
  },
  {
   "cell_type": "code",
   "execution_count": 17,
   "id": "a1f20ae9",
   "metadata": {},
   "outputs": [
    {
     "data": {
      "text/plain": [
       "['56213330_m1', '56213304_m1', '56213310_m1', '56213312_m1']"
      ]
     },
     "execution_count": 17,
     "metadata": {},
     "output_type": "execute_result"
    }
   ],
   "source": [
    "chosen_chains"
   ]
  },
  {
   "cell_type": "code",
   "execution_count": 23,
   "id": "d67a072b",
   "metadata": {},
   "outputs": [
    {
     "name": "stdout",
     "output_type": "stream",
     "text": [
      "dict_keys(['56213318_m1', '56213319_m1', '56213312_m1', '56220137_m8', '56213323_m1', '56213313_m1', '56213293_m1', '56213330_m1', '56213304_m1', '56213310_m1'])\n",
      "[8, 2, 7, 9, 2, 9, 2, 2, 2, 8]\n"
     ]
    }
   ],
   "source": [
    "chains_idx = [('56213304_m1',2),('56213310_m1',2),('56213312_m1',5),('56213330_m1',1)]\n",
    "print(chains_samples.keys())\n",
    "print(resample_idx)"
   ]
  },
  {
   "cell_type": "code",
   "execution_count": 140,
   "id": "80be12a0",
   "metadata": {},
   "outputs": [
    {
     "name": "stdout",
     "output_type": "stream",
     "text": [
      "CHAIN 0\n",
      "latitude           -5.017028e+00\n",
      "longitude           1.317805e+02\n",
      "initial_velocity    9.821593e+01\n",
      "volume              1.704075e+10\n",
      "thickness           5.787002e+01\n",
      "aspect_ratio        3.802220e-01\n",
      "Name: 2832, dtype: float64\n",
      "\n",
      "CHAIN 1\n",
      "latitude           -5.088344e+00\n",
      "longitude           1.319801e+02\n",
      "initial_velocity    8.722030e+01\n",
      "volume              2.797219e+10\n",
      "thickness           3.877575e+01\n",
      "aspect_ratio        3.772841e-01\n",
      "Name: 2852, dtype: float64\n",
      "\n",
      "CHAIN 2\n",
      "latitude           -5.580897e+00\n",
      "longitude           1.304733e+02\n",
      "initial_velocity    2.604463e+01\n",
      "volume              8.933493e+09\n",
      "thickness           3.233858e+01\n",
      "aspect_ratio        3.785290e-01\n",
      "Name: 2552, dtype: float64\n",
      "\n",
      "CHAIN 3\n",
      "latitude           -5.068652e+00\n",
      "longitude           1.317683e+02\n",
      "initial_velocity    4.442885e+01\n",
      "volume              1.938559e+10\n",
      "thickness           5.510168e+01\n",
      "aspect_ratio        3.926010e-01\n",
      "Name: 3422, dtype: float64\n",
      "\n"
     ]
    }
   ],
   "source": [
    "for i in range(len(chosen_chains)):\n",
    "    print(f'CHAIN {i}')\n",
    "    print(chains_samples[chosen_chains[i]].iloc[-1])\n",
    "    print()\n"
   ]
  },
  {
   "cell_type": "code",
   "execution_count": null,
   "id": "ac3a5dff",
   "metadata": {},
   "outputs": [],
   "source": []
  }
 ],
 "metadata": {
  "kernelspec": {
   "display_name": "Python 3.9.4 64-bit ('base': conda)",
   "language": "python",
   "name": "python394jvsc74a57bd09a461ddb9fcd20646b04d132c1d3fb0d8aed797547e7f9a2211d57d403aa6a10"
  },
  "language_info": {
   "codemirror_mode": {
    "name": "ipython",
    "version": 3
   },
   "file_extension": ".py",
   "mimetype": "text/x-python",
   "name": "python",
   "nbconvert_exporter": "python",
   "pygments_lexer": "ipython3",
   "version": "3.9.4"
  }
 },
 "nbformat": 4,
 "nbformat_minor": 5
}
