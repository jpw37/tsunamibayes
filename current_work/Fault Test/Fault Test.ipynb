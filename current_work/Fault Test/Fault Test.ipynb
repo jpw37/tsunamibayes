{
 "cells": [
  {
   "cell_type": "code",
   "execution_count": 1,
   "metadata": {},
   "source": [
    "import tsunamibayes as tb\n",
    "import numpy as np"
   ],
   "outputs": []
  },
  {
   "cell_type": "markdown",
   "metadata": {},
   "source": [
    "# Testing Haversine (Distance Between Points on Globe)"
   ]
  },
  {
   "cell_type": "code",
   "execution_count": 2,
   "metadata": {},
   "source": [
    "R = 6.3781e6    #Radius of the earth\n",
    "lat1 = np.array([50.06638889])    #Just two random lat/lon coordinates for testings purposes\n",
    "lon1 = np.array([5.71472222])\n",
    "lat2 = np.array([58.64388889])\n",
    "lon2 = np.array([3.070000])\n",
    "distance = tb.utils.haversine(lat1,lon1,lat2,lon2)\n",
    "distance/10000      #This is the correct distance according to some other distance calculators found on Google."
   ],
   "outputs": []
  },
  {
   "cell_type": "code",
   "execution_count": 3,
   "metadata": {},
   "source": [
    "import matplotlib.pyplot as plt\n",
    "pointsx = [lat1, lat2]\n",
    "pointsy = [lon1, lon2]\n",
    "plt.plot(pointsx, pointsy, 'ro')\n",
    "plt.plot(pointsx,pointsy)\n",
    "plt.show()"
   ],
   "outputs": []
  },
  {
   "cell_type": "markdown",
   "metadata": {},
   "source": [
    "# Creat a Reference Curve Fault Object"
   ]
  },
  {
   "cell_type": "code",
   "execution_count": 4,
   "metadata": {},
   "source": [
    "import pandas as pd     #Pandas is the library that contains some useful objects/functions for storing and organizing data.\n",
    "\n",
    "df = pd.read_excel ('Flores.xlsx')     #df stands for data frame for the Flores fault.\n",
    "dfwalinae = pd.read_excel('Walinae.xlsx')    #the data frame containing the coordinates for the Walinae fault. \n",
    "print(dfwalinae)\n",
    "print (df)"
   ],
   "outputs": []
  },
  {
   "cell_type": "code",
   "execution_count": 5,
   "metadata": {
    "collapsed": true
   },
   "source": [
    "latFlores = df.iloc[:,8]    #We slice here the important information: lat/lon/strike coordinates. We don't really use the other columns according to my knowledge\n",
    "lonFlores = df.iloc[:,7]    \n",
    "strikeFlores = df.iloc[:,9]\n",
    "latWali = dfwalinae.iloc[:,8]\n",
    "lonWali = dfwalinae.iloc[:,7]\n",
    "strikeWali = dfwalinae.iloc[:,9]\n",
    "\n",
    "#From what I understand, these slices are not numpy Arrays, they still contain the column title/index.\n"
   ],
   "outputs": []
  },
  {
   "cell_type": "code",
   "execution_count": 6,
   "metadata": {
    "collapsed": true
   },
   "source": [
    "latFlores = latFlores.values   #We slice here the important information: lat/lon/strike coordinates. We don't really use the other columns according to my knowledge\n",
    "lonFlores = lonFlores.values    \n",
    "strikeFlores = strikeFlores.values\n",
    "latWali = latWali.values\n",
    "lonWali = lonWali.values\n",
    "strikeWali = strikeWali.values"
   ],
   "outputs": []
  },
  {
   "cell_type": "code",
   "execution_count": 7,
   "metadata": {},
   "source": [
    "plt.plot(lonFlores, latFlores)\n",
    "ax = plt.gca()\n",
    "ax.set_aspect('equal')\n",
    "plt.show()\n",
    "#Flores fault lat/lon. "
   ],
   "outputs": []
  },
  {
   "cell_type": "code",
   "execution_count": 8,
   "metadata": {},
   "source": [
    "plt.plot(lonWali, latWali)\n",
    "ax = plt.gca()\n",
    "ax.set_aspect('equal')\n",
    "plt.show()\n",
    "#Walinae fault lat/lon...\n",
    "#This one will be a little weirder to make sure we don't have weird discontinuties when we interpolate the strike angle."
   ],
   "outputs": []
  },
  {
   "cell_type": "code",
   "execution_count": 9,
   "metadata": {
    "scrolled": true
   },
   "source": [
    "plt.plot(lonFlores, strikeFlores)\n",
    "plt.show()"
   ],
   "outputs": []
  },
  {
   "cell_type": "code",
   "execution_count": 10,
   "metadata": {},
   "source": [
    "plt.plot(strikeWali, latWali)\n",
    "plt.show()"
   ],
   "outputs": []
  },
  {
   "cell_type": "code",
   "execution_count": 11,
   "metadata": {
    "collapsed": true
   },
   "source": [
    "#Creating the bounds for Flores fault object.\n",
    "minlatF = latFlores.min()\n",
    "maxlatF = latFlores.max()\n",
    "minlonF = lonFlores.min()\n",
    "maxlonF = lonFlores.max()\n",
    "\n",
    "minlatW = latWali.min()\n",
    "maxlatW = latWali.max()\n",
    "minlonW = lonWali.min()\n",
    "maxlonW = lonWali.max()\n"
   ],
   "outputs": []
  },
  {
   "cell_type": "code",
   "execution_count": 12,
   "metadata": {
    "collapsed": true
   },
   "source": [
    "boundsFlores = {'lon_min' : minlonF,'lon_max' : maxlonF,\n",
    "            'lat_min' : minlatF, 'lat_max':maxlatF}\n",
    "boundsWali = {'lon_min' : minlonW,'lon_max' : maxlonW,\n",
    "            'lat_min' : minlatW, 'lat_max':maxlatW}"
   ],
   "outputs": []
  },
  {
   "cell_type": "code",
   "execution_count": 13,
   "metadata": {
    "collapsed": true
   },
   "source": [
    "#Using some test dip/depth curves. Essentially we assume that the dip/depth are constant throughout. \n",
    "\n",
    "depthcurve = lambda depth : 25*1000\n",
    "dipcurve = lambda dip : 25"
   ],
   "outputs": []
  },
  {
   "cell_type": "code",
   "execution_count": 14,
   "metadata": {
    "collapsed": true
   },
   "source": [
    "floresFault = tb.fault.ReferenceCurveFault(latFlores,lonFlores,strikeFlores,depthcurve,dipcurve,boundsFlores)\n",
    "walinaeFault = tb.fault.ReferenceCurveFault(latWali, lonWali, strikeWali, depthcurve, dipcurve, boundsWali)\n",
    "#Hey, it works! "
   ],
   "outputs": []
  },
  {
   "cell_type": "code",
   "execution_count": 15,
   "metadata": {},
   "source": [
    "walinaeFault"
   ],
   "outputs": []
  },
  {
   "cell_type": "markdown",
   "metadata": {},
   "source": [
    "# Test the Quad_Interp Function\n",
    "This is most likely obsolete"
   ]
  },
  {
   "cell_type": "code",
   "execution_count": 16,
   "metadata": {
    "collapsed": true
   },
   "source": [
    "x = np.array([1,2,3])\n",
    "y = np.array([100,-3,25])"
   ],
   "outputs": []
  },
  {
   "cell_type": "code",
   "execution_count": 17,
   "metadata": {},
   "source": [
    "tb.fault.ReferenceCurveFault.quad_interp(x,y)"
   ],
   "outputs": []
  },
  {
   "cell_type": "code",
   "execution_count": 18,
   "metadata": {},
   "source": [
    "#Make sure to always use numPy arrays here!!!\n",
    "\n",
    "x = np.array([1,2,3])\n",
    "y = np.array([100,-3,25])\n",
    "cof= tb.fault.ReferenceCurveFault.quad_interp(x,y)\n",
    "\n",
    "graphx = np.linspace(1,3,100)\n",
    "graphx = np.array(graphx)\n",
    "graphy = cof[0]*graphx**2 + cof[1]*graphx + cof[2]\n",
    "plt.plot(x,y,'ro')\n",
    "plt.plot(graphx, graphy)\n",
    "plt.show()"
   ],
   "outputs": []
  },
  {
   "cell_type": "markdown",
   "metadata": {},
   "source": [
    "# Testing the Creation of Depth/Dip Curves"
   ]
  },
  {
   "cell_type": "code",
   "execution_count": null,
   "metadata": {
    "collapsed": true
   },
   "source": [],
   "outputs": []
  },
  {
   "cell_type": "code",
   "execution_count": 19,
   "metadata": {
    "collapsed": true
   },
   "source": [
    "#Some debugging to do here...\n",
    "\n",
    "xtest = np.array([-5,10,15])\n",
    "ytest = np.array([20,25,30])\n",
    "depthcurve, dipcurve = tb.fault.ReferenceCurveFault.depth_dip_curves(xtest,ytest,20)"
   ],
   "outputs": []
  },
  {
   "cell_type": "code",
   "execution_count": 20,
   "metadata": {},
   "source": [
    "xplot = np.linspace(0,20,100)\n",
    "yplotdepth = depthcurve(xplot)\n",
    "yplotdip = dipcurve(xplot)\n",
    "plt.plot(xplot,yplotdepth,'b')\n",
    "plt.plot(xplot,yplotdip,'r')\n",
    "plt.show()"
   ],
   "outputs": []
  },
  {
   "cell_type": "markdown",
   "metadata": {},
   "source": [
    "# Test Circ Mean (weighted mean of various angles)"
   ]
  },
  {
   "cell_type": "code",
   "execution_count": 21,
   "metadata": {},
   "source": [
    "#I simply gave each point a weight of 1 here.\n",
    "weights = np.array([1,1,1])\n",
    "strikeAngles = np.array([96, 90, 87])\n",
    "tb.fault.ReferenceCurveFault.circmean(strikeAngles,weights)"
   ],
   "outputs": []
  },
  {
   "cell_type": "markdown",
   "metadata": {},
   "source": [
    "# Testing the Side Method\n",
    "\n",
    "### This function seems to handle arrays just fine!"
   ]
  },
  {
   "cell_type": "code",
   "execution_count": 22,
   "metadata": {},
   "source": [
    "plt.axvline(x=2)\n",
    "plt.plot(1,1,'o')\n",
    "plt.plot(3,1,'o')\n",
    "plt.show()"
   ],
   "outputs": []
  },
  {
   "cell_type": "code",
   "execution_count": 23,
   "metadata": {},
   "source": [
    "tb.fault.ReferenceCurveFault.side(1,1,2,1,90)"
   ],
   "outputs": []
  },
  {
   "cell_type": "code",
   "execution_count": 24,
   "metadata": {},
   "source": [
    "tb.fault.ReferenceCurveFault.side(3,1,2,1,90)"
   ],
   "outputs": []
  },
  {
   "cell_type": "code",
   "execution_count": 25,
   "metadata": {},
   "source": [
    "closeLat = 2    #This is just a made up \"closest point\" to test whether we can pass in an array of points. \n",
    "closeLon =2 \n",
    "latPoints = np.array([1, 1.5, 2.5, 3])\n",
    "lonPoints = np.array([1,1.5,2.5,3])\n",
    "plt.axvline(x=2)\n",
    "plt.plot(latPoints, lonPoints, 'x')\n",
    "plt.show()"
   ],
   "outputs": []
  },
  {
   "cell_type": "code",
   "execution_count": 26,
   "metadata": {},
   "source": [
    "tb.fault.ReferenceCurveFault.side(latPoints,lonPoints,closeLat, closeLon, 180)"
   ],
   "outputs": []
  },
  {
   "cell_type": "code",
   "execution_count": 27,
   "metadata": {},
   "source": [
    "testlat = np.array([-7.7])\n",
    "testlon = np.array([115])\n",
    "\n",
    "testlatArray = np.array([-7.7, -7.7])\n",
    "testlonArray = np.array([115,118])\n",
    "testlatArray[:, np.newaxis]"
   ],
   "outputs": []
  },
  {
   "cell_type": "code",
   "execution_count": 28,
   "metadata": {},
   "source": [
    "plt.plot(lonFlores, latFlores)\n",
    "plt.plot(testlon, testlat, 'bx')\n",
    "plt.show()"
   ],
   "outputs": []
  },
  {
   "cell_type": "markdown",
   "metadata": {
    "collapsed": true
   },
   "source": [
    "# Testing Distances Function"
   ]
  },
  {
   "cell_type": "code",
   "execution_count": 29,
   "metadata": {},
   "source": [
    "#This works well for one point, but we still need to figure out how the arrays will broadcast. \n",
    "testlatArray[:,np.newaxis]"
   ],
   "outputs": []
  },
  {
   "cell_type": "code",
   "execution_count": 30,
   "metadata": {
    "collapsed": true
   },
   "source": [
    "[minDist, idxMin] = floresFault.distance(testlatArray[:,np.newaxis], testlonArray[:,np.newaxis], retclose= True)"
   ],
   "outputs": []
  },
  {
   "cell_type": "code",
   "execution_count": 31,
   "metadata": {},
   "source": [
    "tb.utils.haversine(testlatArray[:,np.newaxis], testlonArray[:,np.newaxis], floresFault.latpts[np.newaxis,:],floresFault.lonpts[np.newaxis,:])"
   ],
   "outputs": []
  },
  {
   "cell_type": "code",
   "execution_count": 32,
   "metadata": {
    "collapsed": true
   },
   "source": [
    "# We need to find a way to use the min() function on each entry of the array. "
   ],
   "outputs": []
  },
  {
   "cell_type": "code",
   "execution_count": 33,
   "metadata": {
    "collapsed": true
   },
   "source": [
    "minDist, idxMin = floresFault.distance(testlat, testlon, retclose= True)"
   ],
   "outputs": []
  },
  {
   "cell_type": "code",
   "execution_count": 34,
   "metadata": {},
   "source": [
    "[minDist, idxMin]"
   ],
   "outputs": []
  },
  {
   "cell_type": "code",
   "execution_count": 35,
   "metadata": {},
   "source": [
    "plt.plot(lonFlores, latFlores)\n",
    "plt.plot(testlon, testlat, 'bx')\n",
    "plt.plot(lonFlores[idxMin], latFlores[idxMin], 'ro')\n",
    "ax = plt.gca()\n",
    "ax.set_aspect('equal')\n",
    "plt.show()"
   ],
   "outputs": []
  },
  {
   "cell_type": "code",
   "execution_count": 36,
   "metadata": {},
   "source": [
    "floresFault.side(testlat, testlon, latFlores[idxMin], lonFlores[idxMin], strikeFlores[idxMin])"
   ],
   "outputs": []
  },
  {
   "cell_type": "markdown",
   "metadata": {},
   "source": [
    "# Testing of Dip, Strike, and Depth Curves"
   ]
  },
  {
   "cell_type": "code",
   "execution_count": 37,
   "metadata": {},
   "source": [
    "floresFault.strike_map(testlat, testlon)"
   ],
   "outputs": []
  },
  {
   "cell_type": "code",
   "execution_count": 38,
   "metadata": {},
   "source": [
    "floresFault.strike_map(testlatArray[:,np.newaxis], testlonArray[:,np.newaxis])"
   ],
   "outputs": []
  },
  {
   "cell_type": "code",
   "execution_count": 39,
   "metadata": {},
   "source": [
    "floresFault.depth_map(testlat, testlon, retside = True)"
   ],
   "outputs": []
  },
  {
   "cell_type": "code",
   "execution_count": 40,
   "metadata": {},
   "source": [
    "floresFault.depth_map(testlatArray[:,np.newaxis], testlonArray[:,np.newaxis], retside = True)\n",
    "#Intersting...why does this only return a single depth value..."
   ],
   "outputs": []
  },
  {
   "cell_type": "code",
   "execution_count": 41,
   "metadata": {},
   "source": [
    "floresFault.dip_map(testlat, testlon)"
   ],
   "outputs": []
  },
  {
   "cell_type": "code",
   "execution_count": 42,
   "metadata": {},
   "source": [
    "floresFault.dip_map(testlatArray[:,np.newaxis], testlonArray[:,np.newaxis])"
   ],
   "outputs": []
  },
  {
   "cell_type": "markdown",
   "metadata": {},
   "source": [
    "# Testing for Broadcasting/np.newaxis"
   ]
  },
  {
   "cell_type": "code",
   "execution_count": 43,
   "metadata": {},
   "source": [
    "lat1 = np.array([0,1])\n",
    "lon1 = np.array([10,20])\n",
    "\n",
    "faultlats = np.array([0,1,2,3,4,5,6,7,8,9])\n",
    "faultlons = np.array([0,10,20,30,40,50,60,70,80,90])\n"
   ],
   "outputs": []
  },
  {
   "cell_type": "code",
   "execution_count": 44,
   "metadata": {},
   "source": [
    "faultlats[np.newaxis, :]-lat1[:,np.newaxis]"
   ],
   "outputs": []
  },
  {
   "cell_type": "code",
   "execution_count": 45,
   "metadata": {},
   "source": [
    "lon1[:,np.newaxis]-faultlons[np.newaxis, :]"
   ],
   "outputs": []
  },
  {
   "cell_type": "code",
   "execution_count": 46,
   "metadata": {},
   "source": [
    "tb.utils.haversine(lat1[:,np.newaxis],lon1[:,np.newaxis], faultlats[np.newaxis, :],faultlons[np.newaxis, :])"
   ],
   "outputs": []
  },
  {
   "cell_type": "code",
   "execution_count": null,
   "metadata": {
    "collapsed": true
   },
   "source": [],
   "outputs": []
  }
 ],
 "metadata": {
  "kernelspec": {
   "display_name": "Python 3",
   "language": "python",
   "name": "python3"
  },
  "language_info": {
   "codemirror_mode": {
    "name": "ipython",
    "version": 3
   },
   "file_extension": ".py",
   "mimetype": "text/x-python",
   "name": "python",
   "nbconvert_exporter": "python",
   "pygments_lexer": "ipython3",
   "version": "3.6.1"
  }
 },
 "nbformat": 4,
 "nbformat_minor": 2
}
