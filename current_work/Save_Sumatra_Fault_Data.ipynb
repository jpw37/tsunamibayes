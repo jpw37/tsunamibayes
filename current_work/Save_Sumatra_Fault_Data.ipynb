{
 "cells": [
  {
   "cell_type": "markdown",
   "id": "opponent-healthcare",
   "metadata": {},
   "source": [
    "# Save the Fault data for Sumatra\n",
    "\n",
    "Takes save .xlsx file and converts it to an .npz file"
   ]
  },
  {
   "cell_type": "code",
   "execution_count": 1,
   "id": "independent-impossible",
   "metadata": {},
   "outputs": [],
   "source": [
    "import numpy as np\n",
    "import pandas as pd\n",
    "from tsunamibayes.gaussian_process_regressor import GPR\n",
    "from tsunamibayes.fault import ReferenceCurveFault, GaussianProcessFault"
   ]
  },
  {
   "cell_type": "code",
   "execution_count": 3,
   "id": "lined-graduation",
   "metadata": {},
   "outputs": [],
   "source": [
    "model_bounds = {\n",
    "    'lat_min': 0,\n",
    "    'lat_max': 23,\n",
    "    'lon_min': 79,\n",
    "    'lon_max': 101\n",
    "}"
   ]
  },
  {
   "cell_type": "code",
   "execution_count": 2,
   "id": "seven-techno",
   "metadata": {},
   "outputs": [],
   "source": [
    "from sensitivity_data_loader import load_data\n",
    "\n",
    "lats, lons, depths, dips, strikes, rakes = load_data()\n",
    "\n",
    "np.savez('sumatra_fault_data', lats=lats, lons=lons, depths=depths, dips=dips, strikes=strikes, rakes=rakes)#file to save to"
   ]
  },
  {
   "cell_type": "code",
   "execution_count": 5,
   "id": "synthetic-tours",
   "metadata": {},
   "outputs": [
    {
     "data": {
      "text/plain": [
       "<tsunamibayes.fault.GaussianProcessFault at 0x1ec245fa790>"
      ]
     },
     "execution_count": 5,
     "metadata": {},
     "output_type": "execute_result"
    }
   ],
   "source": [
    "# Load the data to make sure that saving it worked.\n",
    "ker = lambda x,y: GPR.rbf_kernel(x,y,sig=0.75)\n",
    "sumatra_data = np.load('sumatra_fault_data.npz')\n",
    "fault = GaussianProcessFault( # The Sumatra fault uses a GaussianProcessFault\n",
    "    bounds=model_bounds,\n",
    "    kers={'depth': ker, 'dip': ker, 'strike': ker, 'rake': ker},\n",
    "    noise={'depth': 1, 'dip': 1, 'strike': 1, 'rake': 1},\n",
    "    **sumatra_data\n",
    ")\n",
    "fault"
   ]
  }
 ],
 "metadata": {
  "kernelspec": {
   "display_name": "Python 3",
   "language": "python",
   "name": "python3"
  },
  "language_info": {
   "codemirror_mode": {
    "name": "ipython",
    "version": 3
   },
   "file_extension": ".py",
   "mimetype": "text/x-python",
   "name": "python",
   "nbconvert_exporter": "python",
   "pygments_lexer": "ipython3",
   "version": "3.8.8"
  }
 },
 "nbformat": 4,
 "nbformat_minor": 5
}
