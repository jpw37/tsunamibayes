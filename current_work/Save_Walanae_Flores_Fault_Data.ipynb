{
 "cells": [
  {
   "cell_type": "markdown",
   "id": "opponent-healthcare",
   "metadata": {},
   "source": [
    "# Save the Fault data for Walanae and Flores"
   ]
  },
  {
   "cell_type": "code",
   "execution_count": 1,
   "id": "independent-impossible",
   "metadata": {},
   "source": [
    "import numpy as np\n",
    "import pandas as pd\n",
    "from tsunamibayes.gaussian_process_regressor import GPR\n",
    "from tsunamibayes.fault import ReferenceCurveFault, GaussianProcessFault"
   ],
   "outputs": []
  },
  {
   "cell_type": "code",
   "execution_count": 3,
   "id": "lined-graduation",
   "metadata": {},
   "source": [
    "model_bounds = {\n",
    "    'lat_min': -10,\n",
    "    'lat_max': -3,\n",
    "    'lon_min': 112,\n",
    "    'lon_max': 124\n",
    "}"
   ],
   "outputs": []
  },
  {
   "cell_type": "markdown",
   "id": "european-fever",
   "metadata": {},
   "source": [
    "## Start with Flores "
   ]
  },
  {
   "cell_type": "code",
   "execution_count": null,
   "id": "seven-techno",
   "metadata": {},
   "source": [
    "from sensitivity_data_loader import load_data\n",
    "\n",
    "lats, lons, depths, dips, strikes, rakes = load_data()\n",
    "\n",
    "np.savez('flores_fault_data', lats=lats, lons=lons, depths=depths, dips=dips, strikes=strikes)"
   ],
   "outputs": []
  },
  {
   "cell_type": "code",
   "execution_count": null,
   "id": "synthetic-tours",
   "metadata": {},
   "source": [
    "# Load the data to make sure that saving it worked.\n",
    "ker = lambda x,y: GPR.rbf_kernel(x,y,sig=0.75)\n",
    "flores_data = np.load('flores_fault_data.npz')\n",
    "fault = GaussianProcessFault( # The Flores fault uses a GaussianProcessFault\n",
    "    bounds=model_bounds,\n",
    "    kers={'depth': ker, 'dip': ker, 'strike': ker},\n",
    "    noise={'depth': 1, 'dip': 1, 'strike': 1},\n",
    "    **flores_data\n",
    ")\n",
    "fault"
   ],
   "outputs": []
  },
  {
   "cell_type": "markdown",
   "id": "convertible-intervention",
   "metadata": {},
   "source": [
    "## Now save the Walanae data"
   ]
  },
  {
   "cell_type": "code",
   "execution_count": 9,
   "id": "metric-india",
   "metadata": {},
   "source": [
    "import pickle\n",
    "# Get latitude and longitude of faults.\n",
    "\n",
    "use_hypo = False # I think the Hypo data is wrong -- everything seems shifted too far left on the Walanae fault.\n",
    "if not use_hypo:\n",
    "    flores = pd.read_excel('1820_fault_data/FloresThrustSplit_TableToExcel.xlsx')\n",
    "    walanae = pd.read_excel('1820_fault_data/WalinaeFaultSplit_TableToExcel.xlsx')\n",
    "    flores_lats, flores_lons = flores[['CenterLat', 'CenterLong']].to_numpy().T\n",
    "    walanae_lats, walanae_lons = walanae[['CenterLat', 'CenterLong']].to_numpy().T\n",
    "else:\n",
    "    flores = pd.read_excel('1820_fault_data/FloresHypoSegments.xlsx')\n",
    "    walanae = pd.read_excel('1820_fault_data/WalanaeHypoSegments.xlsx')\n",
    "    flores_lats, flores_lons = flores[['Lat', 'Long']].to_numpy().T\n",
    "    walanae_lats, walanae_lons = walanae[['Lat', 'Long']].to_numpy().T\n",
    "    \n",
    "\n",
    "# Get the strike, dip, and depth data needed to initialize a ReferenceCurveFault.\n",
    "walanae_strikes = walanae['Strike'].to_numpy()\n",
    "\n",
    "# Dip angle assumed to be 25 degrees.\n",
    "def walanae_dip(x):\n",
    "    import numpy as np\n",
    "    return np.ones(np.shape(x))*25 \n",
    "\n",
    "# Depths are assumed to be 20 km.\n",
    "def walanae_depth(dist):\n",
    "    \"\"\"Gives depth based on distance from fault. \n",
    "    A negative distance is higher than the base fault depth.\n",
    "    \"\"\"\n",
    "    import numpy as np\n",
    "    base_depth = 20000\n",
    "    extra_depth = dist*np.tan(np.deg2rad(walanae_dip(dist)))\n",
    "    return base_depth - extra_depth\n",
    "\n",
    "to_save = {\n",
    "    'latpts': walanae_lats,\n",
    "    'lonpts': walanae_lons,\n",
    "    'strikepts': walanae_strikes,\n",
    "    'depth_curve': walanae_depth,\n",
    "    'dip_curve': walanae_dip\n",
    "}\n",
    "with open('walanae_fault_data.pkl', 'wb') as walanae_file:\n",
    "    pickle.dump(to_save, walanae_file)"
   ],
   "outputs": []
  },
  {
   "cell_type": "code",
   "execution_count": 10,
   "id": "delayed-serial",
   "metadata": {},
   "source": [
    "# Load the data to make sure it worked.\n",
    "walanae_data = pickle.load()\n",
    "fault = ReferenceCurveFault(bounds=model_bounds, **walanae_data)\n",
    "fault"
   ],
   "outputs": []
  },
  {
   "cell_type": "code",
   "execution_count": 5,
   "id": "expired-prevention",
   "metadata": {},
   "source": [
    "np.load?"
   ],
   "outputs": []
  },
  {
   "cell_type": "code",
   "execution_count": 6,
   "id": "valued-trailer",
   "metadata": {},
   "source": [
    "np.savez?"
   ],
   "outputs": []
  },
  {
   "cell_type": "code",
   "execution_count": null,
   "id": "divided-operations",
   "metadata": {},
   "source": [],
   "outputs": []
  }
 ],
 "metadata": {
  "kernelspec": {
   "display_name": "Python 3",
   "language": "python",
   "name": "python3"
  },
  "language_info": {
   "codemirror_mode": {
    "name": "ipython",
    "version": 3
   },
   "file_extension": ".py",
   "mimetype": "text/x-python",
   "name": "python",
   "nbconvert_exporter": "python",
   "pygments_lexer": "ipython3",
   "version": "3.8.5"
  }
 },
 "nbformat": 4,
 "nbformat_minor": 5
}
