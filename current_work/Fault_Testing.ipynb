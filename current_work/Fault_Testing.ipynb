{
 "cells": [
  {
   "cell_type": "code",
   "execution_count": 1,
   "metadata": {},
   "source": [
    "import cartopy\n",
    "import cartopy.crs as ccrs\n",
    "import matplotlib.pyplot as plt\n",
    "from mpl_toolkits.mplot3d import Axes3D\n",
    "import numpy as np\n",
    "import pandas as pd\n",
    "import tsunamibayes as tb\n",
    "from tsunamibayes.gaussian_process_regressor import GPR\n",
    "from tsunamibayes.fault import ReferenceCurveFault, GaussianProcessFault\n",
    "from tsunamibayes.multifault import MultiFault\n",
    "from tsunamibayes.utils import bearing, haversine"
   ],
   "outputs": []
  },
  {
   "cell_type": "code",
   "execution_count": 2,
   "metadata": {},
   "source": [
    "# fault_initialization_data = [\n",
    "#     np.load('flores_data.npz'),\n",
    "#     np.load(config.fault['walanae_data_path'])\n",
    "# ]# TODO: This will need to contain dictionaries/arrays to initialize both fault objects.\n",
    "\n",
    "# fault = [\n",
    "#     GaussianProcessFault( # The Flores fault uses a GaussianProcessFault\n",
    "#         bounds=model_bounds,\n",
    "#         **fault_initialization_data[FAULT.FLORES]\n",
    "#     ),\n",
    "#     ReferenceCurveFault( # The Walanae fault uses a ReferenceCurveFault\n",
    "#         bounds=model_bounds,\n",
    "#         **fault_initialization_data[FAULT.WALANAE]\n",
    "#     )\n",
    "# ]"
   ],
   "outputs": []
  },
  {
   "cell_type": "code",
   "execution_count": 3,
   "metadata": {},
   "source": [
    "model_bounds = {\n",
    "    'lat_min': -10,\n",
    "    'lat_max': -3,\n",
    "    'lon_min': 112,\n",
    "    'lon_max': 124\n",
    "}\n",
    "ker = lambda x,y: GPR.rbf_kernel(x,y,sig=0.75)\n",
    "flores_data = np.load('flores_data.npz')\n",
    "fault = GaussianProcessFault( # The Flores fault uses a GaussianProcessFault\n",
    "    bounds=model_bounds,\n",
    "    kers={'depth': ker, 'dip': ker, 'strike': ker},\n",
    "    noise={'depth': 1, 'dip': 1, 'strike': 1},\n",
    "    **flores_data\n",
    ")\n",
    "fault"
   ],
   "outputs": []
  },
  {
   "cell_type": "code",
   "execution_count": 4,
   "metadata": {},
   "source": [
    "# %matplotlib notebook"
   ],
   "outputs": []
  },
  {
   "cell_type": "code",
   "execution_count": 5,
   "metadata": {},
   "source": [
    "plt.style.use('seaborn')"
   ],
   "outputs": []
  },
  {
   "cell_type": "code",
   "execution_count": 6,
   "metadata": {},
   "source": [
    "def convert_lat_lon(lat, lon):\n",
    "    \"\"\"Converts latitude and longitude from strings to decimals.\n",
    "    Proper string form: '8-17-43.21S', '118-43-42.00E' etc.\n",
    "    \"\"\"\n",
    "    latitude = sum(float(x) / 60 ** n for n, x in enumerate(lat[:-1].split('-')))  * (1 if 'N' == lat[-1] else -1)\n",
    "    longitude = sum(float(x) / 60 ** n for n, x in enumerate(lon[:-1].split('-'))) * (1 if 'E' == lon[-1] else -1)\n",
    "    return latitude, longitude"
   ],
   "outputs": []
  },
  {
   "cell_type": "code",
   "execution_count": 7,
   "metadata": {},
   "source": [
    "# Import and plot flores trench earthquake data\n",
    "# flores_new = pd.read_excel('/Users/paskett/Downloads/Flores Trench Earthquake data 5-7.2.xlsx')\n",
    "# flores_new['Unnamed: 2']"
   ],
   "outputs": []
  },
  {
   "cell_type": "markdown",
   "metadata": {},
   "source": [
    "## Get the fault data -- latitudes/longitudes and strike data"
   ]
  },
  {
   "cell_type": "code",
   "execution_count": 8,
   "metadata": {},
   "source": [
    "# Get latitude and longitude of faults.\n",
    "\n",
    "use_hypo = False # I think the Hypo data is wrong -- everything seems shifted too far left on the Walanae fault.\n",
    "if not use_hypo:\n",
    "    flores = pd.read_excel('1820_fault_data/FloresThrustSplit_TableToExcel.xlsx')\n",
    "    walanae = pd.read_excel('1820_fault_data/WalinaeFaultSplit_TableToExcel.xlsx')\n",
    "    flores_lats, flores_lons = flores[['CenterLat', 'CenterLong']].to_numpy().T\n",
    "    walanae_lats, walanae_lons = walanae[['CenterLat', 'CenterLong']].to_numpy().T\n",
    "else:\n",
    "    flores = pd.read_excel('1820_fault_data/FloresHypoSegments.xlsx')\n",
    "    walanae = pd.read_excel('1820_fault_data/WalanaeHypoSegments.xlsx')\n",
    "    flores_lats, flores_lons = flores[['Lat', 'Long']].to_numpy().T\n",
    "    walanae_lats, walanae_lons = walanae[['Lat', 'Long']].to_numpy().T"
   ],
   "outputs": []
  },
  {
   "cell_type": "code",
   "execution_count": 9,
   "metadata": {},
   "source": [
    "# Get a couple of lat/lon for gauges.\n",
    "bima_latlon = convert_lat_lon('8-27-43.21S', '118-43-42.00E')\n",
    "makassar_latlon = convert_lat_lon('5-7-30.27S', '119-27-56.45E')"
   ],
   "outputs": []
  },
  {
   "cell_type": "code",
   "execution_count": 10,
   "metadata": {},
   "source": [
    "# Plot the fault data.\n",
    "crs = ccrs.PlateCarree()\n",
    "fig = plt.figure(figsize=(7.5,7))\n",
    "ax = plt.axes(projection=crs)\n",
    "ax.set_extent((114,123,-9,-3))\n",
    "ax.coastlines(resolution='10m')\n",
    "plt.xticks(np.arange(114,123))\n",
    "plt.yticks(np.arange(-9,-3))\n",
    "\n",
    "# Plot the Bima and Makassar gauges.\n",
    "plt.scatter([bima_latlon[1], makassar_latlon[1]],[bima_latlon[0], makassar_latlon[0]], s=8, c='r')\n",
    "\n",
    "# Plot the fault data that we already have.\n",
    "plt.scatter(np.append(flores_lons, walanae_lons), np.append(flores_lats, walanae_lats), s=3, c='b')\n",
    "\n",
    "plt.title(\"1820 Makassar Fault Locations\")\n",
    "plt.show()"
   ],
   "outputs": []
  },
  {
   "cell_type": "markdown",
   "metadata": {},
   "source": [
    "## Test the ReferenceCurveFault and MultiFault classes on this data"
   ]
  },
  {
   "cell_type": "code",
   "execution_count": 11,
   "metadata": {},
   "source": [
    "# Get the strike, dip, and depth data needed to initialize ReferenceCurveFaults.\n",
    "walanae_strikes = walanae['Strike'].to_numpy()\n",
    "# Dip angle assumed to be 20 degrees.\n",
    "def walanae_dip(x):\n",
    "    return np.ones(np.shape(x))*25 \n",
    "\n",
    "# Depths are assumed to be 20 km.\n",
    "def walanae_depth(dist):\n",
    "    \"\"\"Gives depth based on distance from fault. \n",
    "    A negative distance is higher than the base fault depth.\n",
    "    \"\"\"\n",
    "    base_depth = 20000\n",
    "    extra_depth = dist*np.tan(np.deg2rad(walanae_dip(dist)))\n",
    "    return base_depth - extra_depth\n",
    "\n",
    "walanae_bounds = {'lonmin':118, 'lon_max':122, 'lat_min': -7.5, 'lat_max': -3}\n",
    "\n",
    "# Now do the same for flores fault.\n",
    "flores_strikes = flores['Strike'].to_numpy()\n",
    "# \"Check for fault plane solutions\" ?, we will guess dip of 32.5 degrees\n",
    "flores_dip = lambda x: np.ones(np.shape(x))*32.5 # FIXME: The dip will be fixed at any point, right?\n",
    "def flores_depth(dist):\n",
    "    \"\"\"Gives depth based on distance from fault. \n",
    "    A negative distance is higher than the base fault depth.\n",
    "    \"\"\"\n",
    "    base_depth = 25000 #FIXME: should this be assumed at 25 km also?\n",
    "    extra_depth = dist*np.tan(np.deg2rad(flores_dip(dist)))\n",
    "    return base_depth - extra_depth\n",
    "    \n",
    "flores_bounds = {'lonmin':114, 'lon_max':123, 'lat_min': -8.5, 'lat_max': -7}"
   ],
   "outputs": []
  },
  {
   "cell_type": "code",
   "execution_count": 12,
   "metadata": {},
   "source": [
    "dist = 10000\n",
    "dist*np.tan(np.deg2rad(walanae_dip(dist)))"
   ],
   "outputs": []
  },
  {
   "cell_type": "code",
   "execution_count": 13,
   "metadata": {},
   "source": [
    "# np.savez(\n",
    "#     'walanae_data.npz', \n",
    "#     latpts=walanae_lats,\n",
    "#     lonpts=walanae_lons, \n",
    "#     strikepts=walanae_strikes, \n",
    "#     depth_curve=walanae_depth, \n",
    "#     dip_curve=walanae_dip,\n",
    "#     bounds=walanae_bounds\n",
    "# )"
   ],
   "outputs": []
  },
  {
   "cell_type": "code",
   "execution_count": 14,
   "metadata": {},
   "source": [
    "# walanae_rcf = ReferenceCurveFault(\n",
    "#     walanae_lats, \n",
    "#     walanae_lons,\n",
    "#     walanae_strikes, \n",
    "#     walanae_depth, \n",
    "#     walanae_dip,\n",
    "#     walanae_bounds)"
   ],
   "outputs": []
  },
  {
   "cell_type": "code",
   "execution_count": 15,
   "metadata": {},
   "source": [
    "# Create ReferenceCurveFaults for Walanae and Flores faults.\n",
    "walanae_rcf = ReferenceCurveFault(\n",
    "    walanae_lats, \n",
    "    walanae_lons,\n",
    "    walanae_strikes, \n",
    "    walanae_depth, \n",
    "    walanae_dip,\n",
    "    walanae_bounds)\n",
    "flores_rcf = ReferenceCurveFault(\n",
    "    flores_lats, \n",
    "    flores_lons,\n",
    "    flores_strikes, \n",
    "    flores_depth, \n",
    "    flores_dip,\n",
    "    flores_bounds)"
   ],
   "outputs": []
  },
  {
   "cell_type": "code",
   "execution_count": 24,
   "metadata": {},
   "source": [
    "# Let's try testing the depths over different latitude and longitude locations.\n",
    "lats = np.linspace(-9,-7,300)\n",
    "lons = np.linspace(114,123,100)\n",
    "X,Y = np.meshgrid(lats, lons)\n",
    "depths,sides = flores_rcf.depth_map(\n",
    "    X.flatten()[:,np.newaxis],\n",
    "    Y.flatten()[:,np.newaxis], \n",
    "    True\n",
    ")"
   ],
   "outputs": []
  },
  {
   "cell_type": "code",
   "execution_count": 25,
   "metadata": {},
   "source": [
    "#%matplotlib notebook"
   ],
   "outputs": []
  },
  {
   "cell_type": "code",
   "execution_count": 26,
   "metadata": {},
   "source": [
    "fig = plt.figure()\n",
    "ax = fig.add_subplot(111, projection='3d')\n",
    "ax.plot_surface(Y,X,depths.reshape(100,300))\n",
    "ax.plot(flores_rcf.lonpts, flores_rcf.latpts, flores_depth(np.zeros(flores_rcf.latpts.shape)))\n",
    "plt.title('Depth of Flores Fault (m)')"
   ],
   "outputs": []
  },
  {
   "cell_type": "code",
   "execution_count": 19,
   "metadata": {},
   "source": [
    "# Let's try testing the dips over different latitude and longitude locations.\n",
    "lats = np.linspace(-9,-7,300)\n",
    "lons = np.linspace(114,123,100)\n",
    "X,Y = np.meshgrid(lats, lons)\n",
    "dips = flores_rcf.dip_map(\n",
    "    X.flatten()[:,np.newaxis],\n",
    "    Y.flatten()[:,np.newaxis], \n",
    ")"
   ],
   "outputs": []
  },
  {
   "cell_type": "code",
   "execution_count": 16,
   "metadata": {},
   "source": [
    "fig = plt.figure()\n",
    "ax = fig.add_subplot(111, projection='3d')\n",
    "ax.plot_surface(Y,X,dips.reshape(100,300))\n",
    "ax.plot(flores_rcf.lonpts, flores_rcf.latpts, flores_dip(np.zeros(flores_rcf.latpts.shape)))\n",
    "plt.title('Dip of Flores Fault')"
   ],
   "outputs": []
  },
  {
   "cell_type": "code",
   "execution_count": 17,
   "metadata": {},
   "source": [
    "# Let's try testing the strike over different latitude and longitude locations.\n",
    "strikes = flores_rcf.strike_map(\n",
    "    X.flatten()[:,np.newaxis],\n",
    "    Y.flatten()[:,np.newaxis], \n",
    ")"
   ],
   "outputs": []
  },
  {
   "cell_type": "code",
   "execution_count": 18,
   "metadata": {},
   "source": [
    "fig = plt.figure()\n",
    "ax = fig.add_subplot(111, projection='3d')\n",
    "ax.plot_surface(Y,X,strikes.reshape(100,300))\n",
    "ax.plot(flores_rcf.lonpts, flores_rcf.latpts, flores_strikes)\n",
    "plt.title('Strike of Flores Fault')"
   ],
   "outputs": []
  },
  {
   "cell_type": "markdown",
   "metadata": {},
   "source": [
    "# Try building/testing a MultiFault object"
   ]
  },
  {
   "cell_type": "code",
   "execution_count": 19,
   "metadata": {},
   "source": [
    "mf = MultiFault([flores_rcf, walanae_rcf], [113, 123, -9, -3])"
   ],
   "outputs": []
  },
  {
   "cell_type": "code",
   "execution_count": 20,
   "metadata": {},
   "source": [
    "# Build a grid around the Flores fault\n",
    "lats = np.linspace(-9,-7,100)\n",
    "lons = np.linspace(114,123,300)\n",
    "X1,Y1 = np.meshgrid(lats, lons)\n",
    "\n",
    "# Build a grid around the Walanae fault\n",
    "lats = np.linspace(-8,-3.5,300)\n",
    "lons = np.linspace(119,122,100)\n",
    "X2,Y2 = np.meshgrid(lats, lons)\n",
    "\n",
    "X1,X2,Y1,Y2 = [x.flatten() for x in (X1,X2,Y1,Y2)]\n",
    "X = np.append(X1,X2)\n",
    "Y = np.append(Y1,Y2)\n",
    "\n",
    "# Plot the geography data.\n",
    "crs = ccrs.PlateCarree()\n",
    "fig = plt.figure(figsize=(7.5,7))\n",
    "ax = plt.axes(projection=crs)\n",
    "ax.set_extent((113,124,-10,-3))\n",
    "ax.coastlines(resolution='10m')\n",
    "plt.xticks(np.arange(112,124))\n",
    "plt.yticks(np.arange(-10,-3))\n",
    "\n",
    "plt.scatter(Y,X)\n",
    "plt.scatter(np.append(flores_lons, walanae_lons), np.append(flores_lats, walanae_lats), s=3, c='y')\n",
    "plt.title('Latitudes and Longitudes to Consider')"
   ],
   "outputs": []
  },
  {
   "cell_type": "code",
   "execution_count": 21,
   "metadata": {},
   "source": [
    "which_fault = mf._find_closest_fault(X[:,np.newaxis],Y[:,np.newaxis])"
   ],
   "outputs": []
  },
  {
   "cell_type": "code",
   "execution_count": 22,
   "metadata": {},
   "source": [
    "fl = which_fault == 0\n",
    "wa = which_fault == 1\n",
    "\n",
    "# Plot the geography data.\n",
    "crs = ccrs.PlateCarree()\n",
    "fig = plt.figure(figsize=(7.5,7))\n",
    "ax = plt.axes(projection=crs)\n",
    "ax.set_extent((113,124,-10,-3))\n",
    "ax.coastlines(resolution='10m')\n",
    "plt.xticks(np.arange(112,124))\n",
    "plt.yticks(np.arange(-10,-3))\n",
    "\n",
    "# Plot which faults apply where\n",
    "plt.scatter(Y[fl],X[fl],label='Flores Fault')\n",
    "plt.scatter(Y[wa],X[wa],label='Walanae Fault')\n",
    "plt.scatter(np.append(flores_lons, walanae_lons), np.append(flores_lats, walanae_lats), s=3, c='y')\n",
    "plt.title('Closest Faults for each Lat/Lon Point')\n",
    "plt.legend()"
   ],
   "outputs": []
  },
  {
   "cell_type": "code",
   "execution_count": 23,
   "metadata": {},
   "source": [
    "mfdepth = mf.depth_map(X[:,np.newaxis], Y[:,np.newaxis])"
   ],
   "outputs": []
  },
  {
   "cell_type": "code",
   "execution_count": 24,
   "metadata": {},
   "source": [
    "%matplotlib notebook"
   ],
   "outputs": []
  },
  {
   "cell_type": "code",
   "execution_count": 32,
   "metadata": {},
   "source": [
    "fig = plt.figure()\n",
    "ax = fig.add_subplot(111, projection='3d')\n",
    "# Plot original Flores-associated lat/lon depths\n",
    "ax.plot_surface(Y1.reshape(300,100),X1.reshape(300,100),mfdepth[:30000].reshape(300,100))\n",
    "# Plot original Walanae-associated lat/lon depths\n",
    "ax.plot_surface(Y2.reshape(100,300),X2.reshape(100,300),mfdepth[30000:].reshape(100,300))\n",
    "# Plot both fault lines\n",
    "ax.plot(flores_rcf.lonpts, flores_rcf.latpts, flores_rcf.depth_curve(np.zeros(flores_rcf.latpts.shape)))\n",
    "ax.plot(walanae_rcf.lonpts, walanae_rcf.latpts, walanae_rcf.depth_curve(np.zeros(walanae_rcf.latpts.shape)))\n",
    "plt.title('Fault Depths')\n",
    "plt.show()"
   ],
   "outputs": []
  },
  {
   "cell_type": "code",
   "execution_count": 26,
   "metadata": {},
   "source": [
    "mfdip = mf.dip_map(X[:,np.newaxis], Y[:,np.newaxis])"
   ],
   "outputs": []
  },
  {
   "cell_type": "code",
   "execution_count": 31,
   "metadata": {},
   "source": [
    "fig = plt.figure()\n",
    "ax = fig.add_subplot(111, projection='3d')\n",
    "# Plot original Flores-associated lat/lon depths\n",
    "ax.plot_surface(Y1.reshape(300,100),X1.reshape(300,100),mfdip[:30000].reshape(300,100))\n",
    "# Plot original Walanae-associated lat/lon depths\n",
    "ax.plot_surface(Y2.reshape(100,300),X2.reshape(100,300),mfdip[30000:].reshape(100,300))\n",
    "# Plot both fault lines\n",
    "ax.plot(flores_rcf.lonpts, flores_rcf.latpts, flores_rcf.dip_curve(np.zeros(flores_rcf.latpts.shape)))\n",
    "ax.plot(walanae_rcf.lonpts, walanae_rcf.latpts, walanae_rcf.dip_curve(np.zeros(walanae_rcf.latpts.shape)))\n",
    "plt.title('Fault Dip Values')\n",
    "plt.show()"
   ],
   "outputs": []
  },
  {
   "cell_type": "code",
   "execution_count": 28,
   "metadata": {},
   "source": [
    "mfstrike = mf.strike_map(X[:,np.newaxis], Y[:,np.newaxis])"
   ],
   "outputs": []
  },
  {
   "cell_type": "code",
   "execution_count": 30,
   "metadata": {},
   "source": [
    "fig = plt.figure()\n",
    "ax = fig.add_subplot(111, projection='3d')\n",
    "# Plot original Flores-associated lat/lon depths\n",
    "ax.plot_surface(Y1.reshape(300,100),X1.reshape(300,100),mfstrike[:30000].reshape(300,100))\n",
    "# Plot original Walanae-associated lat/lon depths\n",
    "ax.plot_surface(Y2.reshape(100,300),X2.reshape(100,300),mfstrike[30000:].reshape(100,300))\n",
    "# Plot both fault lines\n",
    "ax.plot(flores_rcf.lonpts, flores_rcf.latpts, flores_rcf.strikepts)\n",
    "ax.plot(walanae_rcf.lonpts, walanae_rcf.latpts, walanae_rcf.strikepts)\n",
    "plt.title('Fault Strike Values')\n",
    "plt.show()"
   ],
   "outputs": []
  },
  {
   "cell_type": "code",
   "execution_count": 36,
   "metadata": {},
   "source": [
    "import numpy as np\n",
    "from matplotlib import pyplot as plt\n",
    "\n",
    "from sklearn.gaussian_process import GaussianProcessRegressor\n",
    "from sklearn.gaussian_process.kernels import RBF, ConstantKernel as C"
   ],
   "outputs": []
  },
  {
   "cell_type": "code",
   "execution_count": 101,
   "metadata": {},
   "source": [
    "choices = np.random.choice(np.arange(len(flores_lons)), 15, replace=False)\n",
    "lats = flores_lats[choices]\n",
    "lons = flores_lons[choices]\n",
    "X = np.vstack([lats, lons]).T\n",
    "y = flores_depth(np.zeros(15)) + 1000*np.random.randn(15)"
   ],
   "outputs": []
  },
  {
   "cell_type": "code",
   "execution_count": 102,
   "metadata": {},
   "source": [
    "# If we have a specific covariance that we believe in, we could use that as\n",
    "# the kernel for the GaussianProcessRegressor, but I don't know of one.\n",
    "# The best one I can think of is to have high covariances for nearby points and \n",
    "# lower ones for far away points, perhaps at a quadratic rate.\n",
    "gpr = GaussianProcessRegressor(n_restarts_optimizer=12)\n",
    "\n",
    "# Fit to data using Maximum Likelihood Estimation of the parameters\n",
    "gpr.fit(X, y)\n",
    "\n",
    "# Make the prediction on the meshed x-axis (ask for MSE as well)\n",
    "y_pred, sigma = gpr.predict(\n",
    "    np.vstack([flores_lats, flores_lons]).T, \n",
    "    return_std=True\n",
    ")"
   ],
   "outputs": []
  },
  {
   "cell_type": "code",
   "execution_count": 103,
   "metadata": {},
   "source": [
    "Xplot, Yplot = np.meshgrid(flores_lons,flores_lats)\n",
    "Zplot = gpr.predict(np.vstack([Yplot.flatten(), Xplot.flatten()]).T).reshape(Xplot.shape)"
   ],
   "outputs": []
  },
  {
   "cell_type": "code",
   "execution_count": 104,
   "metadata": {},
   "source": [
    "fig = plt.figure()\n",
    "ax = fig.add_subplot(111, projection='3d')\n",
    "# Plot original Flores-associated lat/lon depths\n",
    "ax.scatter(X[:,1], X[:,0], y, c='r', s=20)"
   ],
   "outputs": []
  },
  {
   "cell_type": "code",
   "execution_count": 109,
   "metadata": {},
   "source": [
    "fig = plt.figure()\n",
    "ax = fig.add_subplot(111, projection='3d')\n",
    "# Plot original Flores-associated lat/lon depths\n",
    "ax.plot_surface(Xplot,Yplot,Zplot,cmap='cividis')\n",
    "ax.scatter(X[:,1], X[:,0], y, c='r', s=20)"
   ],
   "outputs": []
  },
  {
   "cell_type": "code",
   "execution_count": 111,
   "metadata": {},
   "source": [
    "gpr.log_marginal_likelihood_value_"
   ],
   "outputs": []
  },
  {
   "cell_type": "code",
   "execution_count": 112,
   "metadata": {},
   "source": [
    "gpr.kernel_"
   ],
   "outputs": []
  },
  {
   "cell_type": "code",
   "execution_count": null,
   "metadata": {},
   "source": [],
   "outputs": []
  }
 ],
 "metadata": {
  "kernelspec": {
   "display_name": "Python 3",
   "language": "python",
   "name": "python3"
  },
  "language_info": {
   "codemirror_mode": {
    "name": "ipython",
    "version": 3
   },
   "file_extension": ".py",
   "mimetype": "text/x-python",
   "name": "python",
   "nbconvert_exporter": "python",
   "pygments_lexer": "ipython3",
   "version": "3.8.5"
  }
 },
 "nbformat": 4,
 "nbformat_minor": 4
}
