{
 "cells": [
  {
   "cell_type": "code",
   "execution_count": 1,
   "metadata": {},
   "source": [
    "import numpy as np\n",
    "import matplotlib.pyplot as plt\n",
    "import tsunamibayes as tb"
   ],
   "outputs": []
  },
  {
   "cell_type": "code",
   "execution_count": 2,
   "metadata": {},
   "source": [
    "bounds = {'lat_min':-10,'lat_max':-2,'lon_min':126,'lon_max':133.5}\n",
    "# depth_path = 'sum_slab2_dep_02.23.18.xyz'\n",
    "# dip_path = 'sum_slab2_dip_02.23.18.xyz'\n",
    "# strike_path = 'sum_slab2_str_02.23.18.xyz'\n",
    "# # arrays = tb.fault.load_slab2_data(depth_path,dip_path,strike_path,bounds)\n",
    "arrays = np.load('../scenarios/banda_1852/data/slab2_banda.npz')\n",
    "banda = tb.GridFault(bounds=bounds,**arrays)"
   ],
   "outputs": []
  },
  {
   "cell_type": "code",
   "execution_count": 3,
   "metadata": {},
   "source": [
    "# np.savez('slab2_banda.npz',**arrays)"
   ],
   "outputs": []
  },
  {
   "cell_type": "code",
   "execution_count": 4,
   "metadata": {},
   "source": [
    "Lat,Lon = np.meshgrid(banda.lat,banda.lon,indexing='ij')"
   ],
   "outputs": []
  },
  {
   "cell_type": "code",
   "execution_count": 3,
   "metadata": {},
   "source": [
    "lon = 131.46686782132107\n",
    "lat = -3.994735053198803\n",
    "mag = 8.828132593154196\n",
    "delta_logl = -0.018864928329097086\n",
    "delta_logw = -0.08955551930345311\n",
    "depth_offset = 10.764981349160156"
   ],
   "outputs": []
  },
  {
   "cell_type": "code",
   "execution_count": 4,
   "metadata": {},
   "source": [
    "length = tb.utils.calc_length(mag, delta_logl)\n",
    "width = tb.utils.calc_width(mag, delta_logw)\n",
    "slip = tb.utils.calc_slip(mag, length, width)"
   ],
   "outputs": []
  },
  {
   "cell_type": "code",
   "execution_count": 11,
   "metadata": {},
   "source": [
    "subfault_params = banda.subfault_split2(lat,lon,length,width,slip,depth_offset=0,slip_dist='elliptical',rake='parallel',n=5)"
   ],
   "outputs": []
  },
  {
   "cell_type": "code",
   "execution_count": 16,
   "metadata": {},
   "source": [
    "subfault_params"
   ],
   "outputs": []
  },
  {
   "cell_type": "code",
   "execution_count": 12,
   "metadata": {},
   "source": [
    "fault = tb.maketopo.make_fault_dtopo(subfault_params,bounds,verbose=True)"
   ],
   "outputs": []
  },
  {
   "cell_type": "markdown",
   "metadata": {},
   "source": [
    "## Uniform slip, rake = 90"
   ]
  },
  {
   "cell_type": "code",
   "execution_count": 18,
   "metadata": {
    "scrolled": true
   },
   "source": [
    "dtopo = fault.dtopo\n",
    "X,Y = np.meshgrid(dtopo.x,dtopo.y)\n",
    "fault.plot_subfaults(slip_color=True,plot_rake=True)\n",
    "# plt.pcolormesh(X,Y,dtopo.dZ[0])\n",
    "# plt.colorbar()\n",
    "# cs = plt.contour(X,Y,banda.depth_map(Y,X).T,levels=[5000,10000,25000,50000])\n",
    "# plt.clabel(cs)\n",
    "plt.show()"
   ],
   "outputs": []
  },
  {
   "cell_type": "code",
   "execution_count": 20,
   "metadata": {},
   "source": [
    "# fault.plot_subfaults(slip_color=True)\n",
    "plt.pcolormesh(X,Y,dtopo.dZ[0])\n",
    "plt.colorbar()\n",
    "# cs = plt.contour(X,Y,banda.depth_map(Y,X).T,levels=[5000,10000,25000,50000])\n",
    "plt.show()"
   ],
   "outputs": []
  },
  {
   "cell_type": "markdown",
   "metadata": {},
   "source": [
    "## Uniform slip, parallel slip vectors (variable rake)"
   ]
  },
  {
   "cell_type": "code",
   "execution_count": 24,
   "metadata": {},
   "source": [
    "dtopo = fault.dtopo\n",
    "X,Y = np.meshgrid(dtopo.x,dtopo.y)\n",
    "fault.plot_subfaults(slip_color=True,plot_rake=True)\n",
    "# plt.pcolormesh(X,Y,dtopo.dZ[0])\n",
    "# plt.colorbar()\n",
    "# cs = plt.contour(X,Y,banda.depth_map(Y,X).T,levels=[5000,10000,25000,50000])\n",
    "# plt.clabel(cs)\n",
    "plt.show()"
   ],
   "outputs": []
  },
  {
   "cell_type": "code",
   "execution_count": 25,
   "metadata": {},
   "source": [
    "# fault.plot_subfaults(slip_color=True)\n",
    "plt.pcolormesh(X,Y,dtopo.dZ[0])\n",
    "plt.colorbar()\n",
    "# cs = plt.contour(X,Y,banda.depth_map(Y,X).T,levels=[5000,10000,25000,50000])\n",
    "# plt.clabel(cs)\n",
    "plt.show()"
   ],
   "outputs": []
  },
  {
   "cell_type": "markdown",
   "metadata": {},
   "source": [
    "## Elliptical slip, rake=90"
   ]
  },
  {
   "cell_type": "code",
   "execution_count": 7,
   "metadata": {},
   "source": [
    "dtopo = fault.dtopo\n",
    "X,Y = np.meshgrid(dtopo.x,dtopo.y)\n",
    "fault.plot_subfaults(slip_color=True,plot_rake=True)\n",
    "# plt.pcolormesh(X,Y,dtopo.dZ[0])\n",
    "# plt.colorbar()\n",
    "# cs = plt.contour(X,Y,banda.depth_map(Y,X).T,levels=[5000,10000,25000,50000])\n",
    "# plt.clabel(cs)\n",
    "plt.show()"
   ],
   "outputs": []
  },
  {
   "cell_type": "code",
   "execution_count": 8,
   "metadata": {},
   "source": [
    "# fault.plot_subfaults(slip_color=True)\n",
    "plt.pcolormesh(X,Y,dtopo.dZ[0])\n",
    "plt.colorbar()\n",
    "# cs = plt.contour(X,Y,banda.depth_map(Y,X).T,levels=[5000,10000,25000,50000])\n",
    "# plt.clabel(cs)\n",
    "plt.show()"
   ],
   "outputs": []
  },
  {
   "cell_type": "markdown",
   "metadata": {},
   "source": [
    "## Elliptical slip, variable rake"
   ]
  },
  {
   "cell_type": "code",
   "execution_count": 13,
   "metadata": {},
   "source": [
    "dtopo = fault.dtopo\n",
    "X,Y = np.meshgrid(dtopo.x,dtopo.y)\n",
    "fault.plot_subfaults(slip_color=True,plot_rake=True)\n",
    "# plt.pcolormesh(X,Y,dtopo.dZ[0])\n",
    "# plt.colorbar()\n",
    "# cs = plt.contour(X,Y,banda.depth_map(Y,X).T,levels=[5000,10000,25000,50000])\n",
    "# plt.clabel(cs)\n",
    "plt.show()"
   ],
   "outputs": []
  },
  {
   "cell_type": "code",
   "execution_count": 14,
   "metadata": {},
   "source": [
    "# fault.plot_subfaults(slip_color=True)\n",
    "plt.pcolormesh(X,Y,dtopo.dZ[0])\n",
    "plt.colorbar()\n",
    "# cs = plt.contour(X,Y,banda.depth_map(Y,X).T,levels=[5000,10000,25000,50000])\n",
    "# plt.clabel(cs)\n",
    "plt.show()"
   ],
   "outputs": []
  },
  {
   "cell_type": "code",
   "execution_count": 17,
   "metadata": {},
   "source": [
    "dtopo.dZ.shape"
   ],
   "outputs": []
  },
  {
   "cell_type": "code",
   "execution_count": 8,
   "metadata": {},
   "source": [
    "fault.plot_subfaults()"
   ],
   "outputs": []
  },
  {
   "cell_type": "code",
   "execution_count": 9,
   "metadata": {},
   "source": [
    "fault.plot_subfaults_depth()"
   ],
   "outputs": []
  },
  {
   "cell_type": "code",
   "execution_count": 13,
   "metadata": {},
   "source": [
    "fault?"
   ],
   "outputs": []
  },
  {
   "cell_type": "code",
   "execution_count": 9,
   "metadata": {},
   "source": [
    "fault.plot_subfaults?"
   ],
   "outputs": []
  },
  {
   "cell_type": "code",
   "execution_count": 17,
   "metadata": {},
   "source": [
    "def get_length(deltalogl, mag):\n",
    "    \"\"\" Length is sampled from a truncated normal distribution that\n",
    "    is centered at the linear regression of log10(length_cm) and magnitude.\n",
    "    Linear regression was calculated from wellscoppersmith data.\n",
    "\n",
    "    Parameters:\n",
    "    mag (float): the magnitude of the earthquake\n",
    "\n",
    "    Returns:\n",
    "    length (float): Length in meters. a sample from the normal distribution centered on the regression\n",
    "    \"\"\"\n",
    "\n",
    "    m = 0.5233956445903871       # slope\n",
    "    c = 1.0974498706605313     # y intercept\n",
    "\n",
    "    mu_logl = m*mag + c\n",
    "    logl = mu_logl + deltalogl\n",
    "    return 10**logl\n",
    "\n",
    "def get_width(deltalogw, mag):\n",
    "    \"\"\"\n",
    "    Parameters:\n",
    "    mag (float): the magnitude of the earthquake\n",
    "\n",
    "    Returns:\n",
    "    width (float): width in meters\n",
    "    \"\"\"\n",
    "    m = 0.29922483873212863       # slope\n",
    "    c = 2.608734705074858     # y intercept\n",
    "\n",
    "    mu_logw = m*mag + c\n",
    "    logw = mu_logw + deltalogw\n",
    "    return 10**logw"
   ],
   "outputs": []
  },
  {
   "cell_type": "code",
   "execution_count": 20,
   "metadata": {},
   "source": [
    "def get_slip(length, width, mag):\n",
    "    \"\"\"Calculated from magnitude and rupture area, Ron Harris gave us the equation\n",
    "        Parameters:\n",
    "        Length (float): m\n",
    "        Width (float): m\n",
    "        mag (float): moment magnitude\n",
    "\n",
    "        Return:\n",
    "        slip (float): meters\n",
    "        \"\"\"\n",
    "    #Dr. Harris' rigidity constant : 3.2e11 dynes/cm^2\n",
    "    mu_dyn_cm2 = 3.e11\n",
    "    mu = mu_dyn_cm2 * 1e-5 * 1e4 #convert to N/m^2\n",
    "    slip = 10**(3/2 * ( mag + 6.06 )) / (mu * length * width)\n",
    "    return slip"
   ],
   "outputs": []
  },
  {
   "cell_type": "code",
   "execution_count": 21,
   "metadata": {},
   "source": [
    "mag = 8.786524\n",
    "lon = 132.048556\n",
    "lat = -4.558317\n",
    "deltalogl = -0.011334\n",
    "deltalogw = 0.017210\n",
    "deltadepth = 1020.248"
   ],
   "outputs": []
  },
  {
   "cell_type": "code",
   "execution_count": 25,
   "metadata": {},
   "source": [
    "length = get_length(deltalogl,mag)\n",
    "width = get_width(deltalogw,mag)\n",
    "slip = get_slip(length,width,mag)\n",
    "print(length,width,slip)"
   ],
   "outputs": []
  },
  {
   "cell_type": "code",
   "execution_count": 28,
   "metadata": {},
   "source": [
    "subfault_params = banda.subfault_split(lat,lon,length,width,slip,depth_offset=deltadepth)"
   ],
   "outputs": []
  },
  {
   "cell_type": "code",
   "execution_count": 29,
   "metadata": {},
   "source": [
    "fault = tb.maketopo.make_fault_dtopo(subfault_params,bounds)"
   ],
   "outputs": []
  },
  {
   "cell_type": "code",
   "execution_count": 35,
   "metadata": {},
   "source": [
    "fault.plot_subfaults()\n",
    "cs = plt.contour(X,Y,banda.depth_map(Y,X).T,levels=[5000,10000,25000,50000])\n",
    "plt.clabel(cs)\n",
    "plt.show()"
   ],
   "outputs": []
  },
  {
   "cell_type": "code",
   "execution_count": 37,
   "metadata": {},
   "source": [
    "d = banda.depth.copy()\n",
    "d[d==0] = np.nan"
   ],
   "outputs": []
  },
  {
   "cell_type": "code",
   "execution_count": 43,
   "metadata": {},
   "source": [
    "Lat,Lon = np.meshgrid(banda.lat,banda.lon)\n",
    "plt.pcolormesh(Lon,Lat,d.T)\n",
    "plt.scatter([132.225436],[-3.881648])"
   ],
   "outputs": []
  },
  {
   "cell_type": "code",
   "execution_count": 34,
   "metadata": {},
   "source": [
    "banda.depth_map(-3.881648,132.225436)"
   ],
   "outputs": []
  },
  {
   "cell_type": "code",
   "execution_count": 39,
   "metadata": {},
   "source": [
    "subfault_params.loc[4]"
   ],
   "outputs": []
  },
  {
   "cell_type": "code",
   "execution_count": 44,
   "metadata": {},
   "source": [
    "def split_rect(fault,lat,lon,length,width,deltadepth,n=11,m=3):\n",
    "    R = fault.R\n",
    "    # n = int(length/15000)\n",
    "    # m = int(width/15000)\n",
    "    n_steps = 8\n",
    "    length_step = length/(n*n_steps)\n",
    "    width_step = width/(m*n_steps)\n",
    "    sublength = length/n\n",
    "    subwidth = width/m\n",
    "\n",
    "    lats = np.empty(n)\n",
    "    lons = np.empty(n)\n",
    "    lats[(n - 1)//2] = lat\n",
    "    lons[(n - 1)//2] = lon\n",
    "\n",
    "    # add strikeward and anti-strikeward centers\n",
    "    bearing1 = fault.strike_from_lat_lon(lat,lon)\n",
    "    bearing2 = (bearing1-180)%360\n",
    "    lat1,lon1 = lat,lon\n",
    "    lat2,lon2 = lat,lon\n",
    "    for i in range(1,(n - 1)//2+1):\n",
    "        for j in range(n_steps):\n",
    "            lat1,lon1 = Fault.displace(lat1,lon1,bearing1,length_step,R)\n",
    "            lat2,lon2 = Fault.displace(lat2,lon2,bearing2,length_step,R)\n",
    "            bearing1 = fault.strike_from_lat_lon(lat1, lon1)\n",
    "            bearing2 = (fault.strike_from_lat_lon(lat2, lon2)-180)%360\n",
    "        lats[(n-1)//2+i] = lat1\n",
    "        lats[(n-1)//2-i] = lat2\n",
    "        lons[(n-1)//2+i] = lon1\n",
    "        lons[(n-1)//2-i] = lon2\n",
    "\n",
    "    strikes = fault.strike_map(np.vstack((lats,lons)).T)\n",
    "    dips = fault.dip_map(np.vstack((lats,lons)).T)\n",
    "    dipward = (strikes+90)%360\n",
    "\n",
    "    Lats = np.empty((m,n))\n",
    "    Lons = np.empty((m,n))\n",
    "    Strikes = np.empty((m,n))\n",
    "    Dips = np.empty((m,n))\n",
    "    Lats[(m-1)//2] = lats\n",
    "    Lons[(m-1)//2] = lons\n",
    "    Strikes[(m-1)//2] = strikes\n",
    "    Dips[(m-1)//2] = dips\n",
    "\n",
    "    # add dipward and antidipward centers\n",
    "    templats1,templons1 = lats.copy(),lons.copy()\n",
    "    templats2,templons2 = lats.copy(),lons.copy()\n",
    "    tempdips1,tempdips2 = dips.copy(),dips.copy()\n",
    "    for i in range(1,(m - 1)//2+1):\n",
    "        for j in range(n_steps):\n",
    "            templats1,templons1 = Fault.displace(templats1,templons1,dipward,width_step*np.cos(np.deg2rad(tempdips1)),R)\n",
    "            templats2,templons2 = Fault.displace(templats2,templons2,dipward,-width_step*np.cos(np.deg2rad(tempdips2)),R)\n",
    "            tempdips1 = fault.dip_map(np.vstack((templats1,templons1)).T)\n",
    "            tempdips2 = fault.dip_map(np.vstack((templats2,templons2)).T)\n",
    "        Lats[(m-1)//2+i] = templats1\n",
    "        Lats[(m-1)//2-i] = templats2\n",
    "        Lons[(m-1)//2+i] = templons1\n",
    "        Lons[(m-1)//2-i] = templons2\n",
    "        Strikes[(m-1)//2+i] = fault.strike_map(np.vstack((templats1,templons1)).T)\n",
    "        Strikes[(m-1)//2-i] = fault.strike_map(np.vstack((templats2,templons2)).T)\n",
    "        Dips[(m-1)//2+i] = tempdips1\n",
    "        Dips[(m-1)//2-i] = tempdips2\n",
    "\n",
    "    Depths = fault.depth_map(np.vstack((Lats.flatten(),Lons.flatten())).T) + deltadepth\n",
    "    data = [Lats,Lons,Strikes,Dips,Depths]\n",
    "    data = [arr.flatten() for arr in data]\n",
    "    return np.array(data).T, sublength, subwidth"
   ],
   "outputs": []
  },
  {
   "cell_type": "code",
   "execution_count": null,
   "metadata": {},
   "source": [],
   "outputs": []
  }
 ],
 "metadata": {
  "kernelspec": {
   "display_name": "Python 3",
   "language": "python",
   "name": "python3"
  },
  "language_info": {
   "codemirror_mode": {
    "name": "ipython",
    "version": 3
   },
   "file_extension": ".py",
   "mimetype": "text/x-python",
   "name": "python",
   "nbconvert_exporter": "python",
   "pygments_lexer": "ipython3",
   "version": "3.7.6"
  }
 },
 "nbformat": 4,
 "nbformat_minor": 2
}
