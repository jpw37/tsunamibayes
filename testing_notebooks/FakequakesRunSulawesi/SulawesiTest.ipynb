{
 "cells": [
  {
   "cell_type": "markdown",
   "metadata": {
    "id": "b6yZ-G8oTunI"
   },
   "source": [
    "# Sulawesi Fault test\n",
    "### An example of how to run fakequakes and geoclaw on a new fault"
   ]
  },
  {
   "cell_type": "markdown",
   "metadata": {
    "id": "2BcSZjylUBn-"
   },
   "source": [
    "# .utils.py"
   ]
  },
  {
   "cell_type": "markdown",
   "metadata": {
    "id": "pXpaHZ_ATfiO"
   },
   "source": [
    "# fault.py"
   ]
  },
  {
   "cell_type": "markdown",
   "metadata": {
    "id": "5E4eKDDrV_z9"
   },
   "source": [
    "# Install Cartopy"
   ]
  },
  {
   "cell_type": "code",
   "execution_count": 6,
   "metadata": {},
   "outputs": [],
   "source": [
    "import cartopy"
   ]
  },
  {
   "cell_type": "markdown",
   "metadata": {
    "id": "6BUoeZGnXBs0"
   },
   "source": [
    "# Create object"
   ]
  },
  {
   "cell_type": "code",
   "execution_count": 7,
   "metadata": {},
   "outputs": [
    {
     "ename": "FileNotFoundError",
     "evalue": "[Errno 2] No such file or directory: 'sul_slab.npz'",
     "output_type": "error",
     "traceback": [
      "\u001b[0;31m---------------------------------------------------------------------------\u001b[0m",
      "\u001b[0;31mFileNotFoundError\u001b[0m                         Traceback (most recent call last)",
      "Cell \u001b[0;32mIn[7], line 7\u001b[0m\n\u001b[1;32m      4\u001b[0m \u001b[38;5;28;01mfrom\u001b[39;00m \u001b[38;5;21;01mgeopy\u001b[39;00m\u001b[38;5;21;01m.\u001b[39;00m\u001b[38;5;21;01mdistance\u001b[39;00m \u001b[38;5;28;01mimport\u001b[39;00m geodesic\n\u001b[1;32m      6\u001b[0m \u001b[38;5;66;03m# Load the SUL slab data\u001b[39;00m\n\u001b[0;32m----> 7\u001b[0m sul_data \u001b[38;5;241m=\u001b[39m np\u001b[38;5;241m.\u001b[39mload(\u001b[38;5;124m'\u001b[39m\u001b[38;5;124msul_slab.npz\u001b[39m\u001b[38;5;124m'\u001b[39m)\n\u001b[1;32m      8\u001b[0m lat \u001b[38;5;241m=\u001b[39m sul_data[\u001b[38;5;124m'\u001b[39m\u001b[38;5;124mlat\u001b[39m\u001b[38;5;124m'\u001b[39m]\n\u001b[1;32m      9\u001b[0m lon \u001b[38;5;241m=\u001b[39m sul_data[\u001b[38;5;124m'\u001b[39m\u001b[38;5;124mlon\u001b[39m\u001b[38;5;124m'\u001b[39m]\n",
      "File \u001b[0;32m/opt/anaconda3/lib/python3.11/site-packages/numpy/lib/npyio.py:405\u001b[0m, in \u001b[0;36mload\u001b[0;34m(file, mmap_mode, allow_pickle, fix_imports, encoding, max_header_size)\u001b[0m\n\u001b[1;32m    403\u001b[0m     own_fid \u001b[38;5;241m=\u001b[39m \u001b[38;5;28;01mFalse\u001b[39;00m\n\u001b[1;32m    404\u001b[0m \u001b[38;5;28;01melse\u001b[39;00m:\n\u001b[0;32m--> 405\u001b[0m     fid \u001b[38;5;241m=\u001b[39m stack\u001b[38;5;241m.\u001b[39menter_context(\u001b[38;5;28mopen\u001b[39m(os_fspath(file), \u001b[38;5;124m\"\u001b[39m\u001b[38;5;124mrb\u001b[39m\u001b[38;5;124m\"\u001b[39m))\n\u001b[1;32m    406\u001b[0m     own_fid \u001b[38;5;241m=\u001b[39m \u001b[38;5;28;01mTrue\u001b[39;00m\n\u001b[1;32m    408\u001b[0m \u001b[38;5;66;03m# Code to distinguish from NumPy binary files and pickles.\u001b[39;00m\n",
      "\u001b[0;31mFileNotFoundError\u001b[0m: [Errno 2] No such file or directory: 'sul_slab.npz'"
     ]
    }
   ],
   "source": [
    "import numpy as np\n",
    "from matplotlib import pyplot as plt\n",
    "import cartopy.crs as ccrs\n",
    "from geopy.distance import geodesic\n",
    "\n",
    "# Load the SUL slab data\n",
    "sul_data = np.load('sul_slab.npz')\n",
    "lat = sul_data['lat']\n",
    "lon = sul_data['lon']\n",
    "depth = sul_data['depth']\n",
    "dip = sul_data['dip']\n",
    "strike = sul_data['strike']\n",
    "\n",
    "# Load the HAL slab data\n",
    "hal_data = np.load('hal_slab.npz')\n",
    "hal_lat = hal_data['lat']\n",
    "hal_lon = hal_data['lon']\n",
    "hal_depth = hal_data['depth']\n",
    "hal_dip = hal_data['dip']\n",
    "hal_strike = hal_data['strike']\n",
    "\n",
    "# Define bounds for the map\n",
    "bounds = {'lat_max': max(lat[-1], hal_lat[-1]),\n",
    "          'lat_min': min(lat[0], hal_lat[0]),\n",
    "          'lon_max': max(lon[-1], hal_lon[-1]),\n",
    "          'lon_min': min(lon[0], hal_lon[0])}\n",
    "\n",
    "# Create the GridFault objects\n",
    "# sul_grid_fault = GridFault(lat, lon, depth, dip, strike, bounds)\n",
    "# hal_grid_fault = GridFault(hal_lat, hal_lon, hal_depth, hal_dip, hal_strike, bounds)\n",
    "\n",
    "# Define a grid for latitude and longitude\n",
    "lon_values = np.linspace(bounds['lon_min'], bounds['lon_max'], 300)\n",
    "lat_values = np.linspace(bounds['lat_max'], bounds['lat_min'], 300)\n",
    "Lon, Lat = np.meshgrid(lon_values, lat_values)\n",
    "\n",
    "# Compute depth maps for the grid\n",
    "# sul_depth_map = sul_grid_fault.depth_map(Lat, Lon)\n",
    "# hal_depth_map = hal_grid_fault.depth_map(Lat, Lon)\n",
    "\n",
    "# # Transpose depth maps\n",
    "# sul_depth_map = sul_depth_map.T\n",
    "# hal_depth_map = hal_depth_map.T\n",
    "\n",
    "# Create a figure\n",
    "fig = plt.figure(figsize=(12, 8))\n",
    "ax = fig.add_subplot(1, 1, 1, projection=ccrs.PlateCarree())\n",
    "\n",
    "# Set map extent\n",
    "ax.set_extent([bounds['lon_min'], bounds['lon_max'], bounds['lat_min'], bounds['lat_max']], crs=ccrs.PlateCarree())\n",
    "\n",
    "# Add coastlines\n",
    "ax.coastlines(resolution='10m')\n",
    "\n",
    "# Define depth contour levels\n",
    "depth_levels = np.arange(20, 700, 20) * 1000\n",
    "\n",
    "# **Plot both faults on the same map**\n",
    "# SUL slab contours\n",
    "sul_contour = ax.contour(Lon, Lat, sul_depth_map, levels=depth_levels, cmap='viridis', transform=ccrs.PlateCarree())\n",
    "sul_fault_contour = ax.contour(Lon, Lat, sul_depth_map, levels=[150000], colors='red', transform=ccrs.PlateCarree())\n",
    "\n",
    "print(sul_depth_map)\n",
    "\n",
    "# HAL slab contours\n",
    "hal_contour = ax.contour(Lon, Lat, hal_depth_map, levels=depth_levels, cmap='viridis', transform=ccrs.PlateCarree())\n",
    "hal_fault_contour = ax.contour(Lon, Lat, hal_depth_map, levels=[150000], colors='orange', transform=ccrs.PlateCarree())\n",
    "\n",
    "\n",
    "length_dict = {}\n",
    "\n",
    "\n",
    "def calculate_fault_midpoint(contour, color, label):\n",
    "    \"\"\"\n",
    "    Calculates the length and midpoint of each individual segment in the contour.\n",
    "    Plots the midpoints on the map.\n",
    "    \"\"\"\n",
    "\n",
    "    # if label not in length_dict:\n",
    "    #     length_dict[label] = []  # Store multiple segments per fault label\n",
    "\n",
    "    segment_index = 1  # Unique identifier for each segment of the fault\n",
    "\n",
    "    for segment_group in contour.allsegs:  # Each contour level\n",
    "        # print(f\"{segment_group}\")\n",
    "        for segment in segment_group:  # Each individual contour segment\n",
    "            # print(f\"segement: {segment}\")\n",
    "            if len(segment) > 1:\n",
    "                segment_length = 0\n",
    "                contour_points = []\n",
    "\n",
    "                # Compute segment length\n",
    "                for i in range(len(segment) - 1):\n",
    "                    point1 = (segment[i][1], segment[i][0])  # lat, lon\n",
    "                    point2 = (segment[i + 1][1], segment[i + 1][0])\n",
    "                    small_segment_length = geodesic(point1, point2).meters\n",
    "                    segment_length += small_segment_length\n",
    "                    contour_points.append((small_segment_length, point2))\n",
    "\n",
    "                segment_name = f\"{label} Segment {segment_index}\"\n",
    "                print(f\"Total fault length for {segment_name}: {segment_length:.2f} meters\")\n",
    "\n",
    "\n",
    "                if segment_length < 20000:\n",
    "                  break\n",
    "\n",
    "                length_dict[segment_name] = segment_length  # Store directly as key-value pair\n",
    "\n",
    "\n",
    "                # length_dict[label].append({segment_name: segment_length})  # Store with unique segment name\n",
    "\n",
    "                # print(f\"Total fault length for {label} segment: {segment_length:.2f} meters\")\n",
    "\n",
    "                # length_dict[label] = segment_length\n",
    "\n",
    "                # Find midpoint for this segment\n",
    "                half_length = segment_length / 2\n",
    "                cumulative_length = 0\n",
    "                midpoint = None\n",
    "\n",
    "                for segment_length, point in contour_points:\n",
    "                    cumulative_length += segment_length\n",
    "                    if cumulative_length >= half_length:\n",
    "                        midpoint = point\n",
    "                        break\n",
    "\n",
    "                # Plot midpoint if found\n",
    "                if midpoint:\n",
    "                    print(f\"Midpoint of {label} segment: {midpoint}\")\n",
    "                    ax.plot(\n",
    "                        midpoint[1], midpoint[0], 'o',\n",
    "                        color=color, markersize=6,\n",
    "                        label=f'Midpoint {label}',\n",
    "                        transform=ccrs.PlateCarree()\n",
    "                    )\n",
    "\n",
    "                segment_index += 1\n",
    "\n",
    "# **Calculate and plot midpoints for both faults**\n",
    "calculate_fault_midpoint(sul_fault_contour, 'red', 'SUL Fault')\n",
    "calculate_fault_midpoint(hal_fault_contour, 'orange', 'HAL Fault')\n",
    "\n",
    "# Add gridlines\n",
    "gl = ax.gridlines(draw_labels=True)\n",
    "gl.right_labels = False\n",
    "gl.top_labels = False\n",
    "\n",
    "# Add legend and labels\n",
    "plt.legend()\n",
    "plt.title('Overlapping Fault Depth Contours (SUL and HAL)')\n",
    "plt.xlabel('Longitude')\n",
    "plt.ylabel('Latitude')\n",
    "\n",
    "# Show the plot\n",
    "plt.show()\n"
   ]
  },
  {
   "cell_type": "markdown",
   "metadata": {
    "id": "xVN5SH-k9_x-"
   },
   "source": [
    "## Calculate Lengths and Width functions"
   ]
  },
  {
   "cell_type": "code",
   "execution_count": null,
   "metadata": {
    "id": "Ssh2CVEn-GZ6"
   },
   "outputs": [],
   "source": [
    "def calc_length(magnitude, delta_logl):\n",
    "    \"\"\"Computes the rupture length of the fault based on an earthquake's moment\n",
    "    magnitude using a regression formula.\n",
    "\n",
    "    Parameters\n",
    "    ----------\n",
    "    magnitude : float\n",
    "        The moment magnitude of the earthquake event.\n",
    "    delta_logl : float\n",
    "        An offset factor for the log of the rupture length.\n",
    "\n",
    "    Returns\n",
    "    -------\n",
    "    length : float\n",
    "        The rupture length in (meters? km?)\n",
    "    \"\"\"\n",
    "    a = 0.5233956445903871     # slope\n",
    "    b = 1.0974498706605313     # intercept\n",
    "\n",
    "    mu_logl = a*magnitude + b\n",
    "    logl = mu_logl + delta_logl\n",
    "\n",
    "    return 10**logl\n",
    "\n",
    "def calc_magnitude(length, delta_logl):\n",
    "    a = 0.5233956445903871     # slope\n",
    "    b = 1.0974498706605313     # intercept\n",
    "\n",
    "    # length_km = length/1000\n",
    "\n",
    "    # print(\"length\" + type(length))\n",
    "\n",
    "    # return (np.log(length) - b - delta_logl)/a\n",
    "\n",
    "    logl = np.log10(length)  # Compute log10 of length\n",
    "    magnitude = (logl - b - delta_logl) / a  # Solve for magnitude\n",
    "    return magnitude\n",
    "\n",
    "\n",
    "def calc_width(magnitude, delta_logw):\n",
    "    \"\"\"Computes the rupture width of the fault based on an earthquake's moment\n",
    "    magnitude using a regression formula.\n",
    "\n",
    "    Parameters\n",
    "    ----------\n",
    "    magnitude : float\n",
    "        The moment magnitude of the earthquake event.\n",
    "    delta_logw : float\n",
    "        An offset factor for the log of the rupture width.\n",
    "\n",
    "    Returns\n",
    "    -------\n",
    "    length : float\n",
    "        The rupture width in (meters? km?)\n",
    "    \"\"\"\n",
    "    m = 0.29922483873212863   # slope\n",
    "    c = 2.608734705074858     # y intercept\n",
    "\n",
    "    mu_logw = m*magnitude + c\n",
    "    logw = mu_logw + delta_logw\n",
    "    return 10**logw"
   ]
  },
  {
   "cell_type": "code",
   "execution_count": null,
   "metadata": {
    "colab": {
     "base_uri": "https://localhost:8080/"
    },
    "id": "hYDays_Q_NPD",
    "outputId": "94a94b6b-0c9c-4df5-b4b7-3902aa95b6a2"
   },
   "outputs": [
    {
     "name": "stdout",
     "output_type": "stream",
     "text": [
      "SUL Fault Segment 1: 244887.33954676578\n",
      "HAL Fault Segment 1: 912092.9617962152\n",
      "HAL Fault Segment 2: 257553.31075518767\n",
      "SUL Fault Segment 1 magnitude = 8.199373660765755\n",
      "SUL Fault Segment 1 width = 115396.05617039916\n",
      "HAL Fault Segment 1 magnitude = 9.290465604911672\n",
      "HAL Fault Segment 1 width = 244721.8671122068\n",
      "HAL Fault Segment 2 magnitude = 8.241217348430633\n",
      "HAL Fault Segment 2 width = 118771.33475629539\n"
     ]
    }
   ],
   "source": [
    "for key, value in length_dict.items():\n",
    "    print(f\"{key}: {value}\")\n",
    "\n",
    "for key, value in length_dict.items():\n",
    "    # print(type(length_dict[key]))\n",
    "    print(f\"{key}\" + \" magnitude = \" + f\"{calc_magnitude(length_dict[key], delta_logl=0)}\")\n",
    "    # print(f\"{key}\" + \" length = \" + f\"{calc_length(calc_magnitude(length_dict[key], delta_logl=0), delta_logl=0)}\")\n",
    "    print(f\"{key}\" + \" width = \" + f\"{calc_width(calc_magnitude(length_dict[key], delta_logl=0), delta_logw=0)}\")\n",
    "\n",
    "    #save centroid, length, width, and magnitude as attributes of the GridFault for each fault\n",
    "    #arrange the code into an organized function and commit it to github\n",
    "    # make sure that's all we need to give fake quakes\n",
    "    # look back and look at how the super computer works\n"
   ]
  }
 ],
 "metadata": {
  "colab": {
   "collapsed_sections": [
    "b6yZ-G8oTunI"
   ],
   "provenance": []
  },
  "kernelspec": {
   "display_name": "Python 3 (ipykernel)",
   "language": "python",
   "name": "python3"
  },
  "language_info": {
   "codemirror_mode": {
    "name": "ipython",
    "version": 3
   },
   "file_extension": ".py",
   "mimetype": "text/x-python",
   "name": "python",
   "nbconvert_exporter": "python",
   "pygments_lexer": "ipython3",
   "version": "3.11.8"
  }
 },
 "nbformat": 4,
 "nbformat_minor": 1
}
